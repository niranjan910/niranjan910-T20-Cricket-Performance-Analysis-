{
 "cells": [
  {
   "cell_type": "markdown",
   "id": "91aee2e8-72ad-4e2a-8210-144917c19eb8",
   "metadata": {},
   "source": [
    "## **\n",
    "\n",
    "### *Business Problem*\n",
    "*Identify the key factors that influence match outcomes in T20 cricket, with a special focus on batting team performance, bowling impact, and match context — so that franchises can make better strategic decisions about lineups, toss decisions, and player roles.*"
   ]
  },
  {
   "cell_type": "markdown",
   "id": "ce7ba033-7a7c-4354-a89c-fa9152d9d949",
   "metadata": {},
   "source": [
    "### *Environmental Setup*"
   ]
  },
  {
   "cell_type": "code",
   "execution_count": 132,
   "id": "5f9fe19a-6a1a-453d-88a5-272210dcc490",
   "metadata": {},
   "outputs": [],
   "source": [
    "import pandas as pd\n",
    "import numpy as np\n",
    "\n",
    "import matplotlib.pyplot as plt\n",
    "import seaborn as sns\n",
    "\n",
    "pd.set_option('display.max_columns', 200) "
   ]
  },
  {
   "cell_type": "markdown",
   "id": "577739c8-3d2b-4c84-8b60-8bf66d196cfa",
   "metadata": {},
   "source": [
    "### *Data Loading*"
   ]
  },
  {
   "cell_type": "code",
   "execution_count": 133,
   "id": "f54f21ae-cd26-404c-ba11-5849c9638429",
   "metadata": {},
   "outputs": [],
   "source": [
    "df = pd.read_csv(\"IPL.csv\", low_memory=False)"
   ]
  },
  {
   "cell_type": "markdown",
   "id": "d7864c22-f9f6-460f-98ed-cf22a72b9f10",
   "metadata": {},
   "source": [
    "### *Data Understanding*"
   ]
  },
  {
   "cell_type": "code",
   "execution_count": 134,
   "id": "91b6aa1e-916f-479b-a577-52b8db54cb5e",
   "metadata": {},
   "outputs": [
    {
     "data": {
      "text/html": [
       "<div>\n",
       "<style scoped>\n",
       "    .dataframe tbody tr th:only-of-type {\n",
       "        vertical-align: middle;\n",
       "    }\n",
       "\n",
       "    .dataframe tbody tr th {\n",
       "        vertical-align: top;\n",
       "    }\n",
       "\n",
       "    .dataframe thead th {\n",
       "        text-align: right;\n",
       "    }\n",
       "</style>\n",
       "<table border=\"1\" class=\"dataframe\">\n",
       "  <thead>\n",
       "    <tr style=\"text-align: right;\">\n",
       "      <th></th>\n",
       "      <th>Unnamed: 0</th>\n",
       "      <th>match_id</th>\n",
       "      <th>date</th>\n",
       "      <th>match_type</th>\n",
       "      <th>event_name</th>\n",
       "      <th>innings</th>\n",
       "      <th>batting_team</th>\n",
       "      <th>bowling_team</th>\n",
       "      <th>over</th>\n",
       "      <th>ball</th>\n",
       "      <th>ball_no</th>\n",
       "      <th>batter</th>\n",
       "      <th>bat_pos</th>\n",
       "      <th>runs_batter</th>\n",
       "      <th>balls_faced</th>\n",
       "      <th>bowler</th>\n",
       "      <th>valid_ball</th>\n",
       "      <th>runs_extras</th>\n",
       "      <th>runs_total</th>\n",
       "      <th>runs_bowler</th>\n",
       "      <th>runs_not_boundary</th>\n",
       "      <th>extra_type</th>\n",
       "      <th>non_striker</th>\n",
       "      <th>non_striker_pos</th>\n",
       "      <th>wicket_kind</th>\n",
       "      <th>player_out</th>\n",
       "      <th>fielders</th>\n",
       "      <th>runs_target</th>\n",
       "      <th>review_batter</th>\n",
       "      <th>team_reviewed</th>\n",
       "      <th>review_decision</th>\n",
       "      <th>umpire</th>\n",
       "      <th>umpires_call</th>\n",
       "      <th>player_of_match</th>\n",
       "      <th>match_won_by</th>\n",
       "      <th>win_outcome</th>\n",
       "      <th>toss_winner</th>\n",
       "      <th>toss_decision</th>\n",
       "      <th>venue</th>\n",
       "      <th>city</th>\n",
       "      <th>day</th>\n",
       "      <th>month</th>\n",
       "      <th>year</th>\n",
       "      <th>season</th>\n",
       "      <th>gender</th>\n",
       "      <th>team_type</th>\n",
       "      <th>superover_winner</th>\n",
       "      <th>result_type</th>\n",
       "      <th>method</th>\n",
       "      <th>balls_per_over</th>\n",
       "      <th>overs</th>\n",
       "      <th>event_match_no</th>\n",
       "      <th>stage</th>\n",
       "      <th>match_number</th>\n",
       "      <th>team_runs</th>\n",
       "      <th>team_balls</th>\n",
       "      <th>team_wicket</th>\n",
       "      <th>new_batter</th>\n",
       "      <th>batter_runs</th>\n",
       "      <th>batter_balls</th>\n",
       "      <th>bowler_wicket</th>\n",
       "      <th>batting_partners</th>\n",
       "      <th>next_batter</th>\n",
       "      <th>striker_out</th>\n",
       "    </tr>\n",
       "  </thead>\n",
       "  <tbody>\n",
       "    <tr>\n",
       "      <th>0</th>\n",
       "      <td>131970</td>\n",
       "      <td>335982</td>\n",
       "      <td>18-04-2008</td>\n",
       "      <td>T20</td>\n",
       "      <td>Indian Premier League</td>\n",
       "      <td>1</td>\n",
       "      <td>Kolkata Knight Riders</td>\n",
       "      <td>Royal Challengers Bangalore</td>\n",
       "      <td>0</td>\n",
       "      <td>1</td>\n",
       "      <td>0.1</td>\n",
       "      <td>SC Ganguly</td>\n",
       "      <td>1</td>\n",
       "      <td>0</td>\n",
       "      <td>1</td>\n",
       "      <td>P Kumar</td>\n",
       "      <td>1</td>\n",
       "      <td>1</td>\n",
       "      <td>1</td>\n",
       "      <td>0</td>\n",
       "      <td>False</td>\n",
       "      <td>legbyes</td>\n",
       "      <td>BB McCullum</td>\n",
       "      <td>2</td>\n",
       "      <td>NaN</td>\n",
       "      <td>NaN</td>\n",
       "      <td>NaN</td>\n",
       "      <td>NaN</td>\n",
       "      <td>NaN</td>\n",
       "      <td>NaN</td>\n",
       "      <td>NaN</td>\n",
       "      <td>NaN</td>\n",
       "      <td>False</td>\n",
       "      <td>BB McCullum</td>\n",
       "      <td>Kolkata Knight Riders</td>\n",
       "      <td>140 runs</td>\n",
       "      <td>Royal Challengers Bangalore</td>\n",
       "      <td>field</td>\n",
       "      <td>M Chinnaswamy Stadium</td>\n",
       "      <td>Bangalore</td>\n",
       "      <td>18</td>\n",
       "      <td>4</td>\n",
       "      <td>2008</td>\n",
       "      <td>2007/08</td>\n",
       "      <td>male</td>\n",
       "      <td>club</td>\n",
       "      <td>NaN</td>\n",
       "      <td>NaN</td>\n",
       "      <td>NaN</td>\n",
       "      <td>6</td>\n",
       "      <td>20</td>\n",
       "      <td>1</td>\n",
       "      <td>Unknown</td>\n",
       "      <td>Unknown</td>\n",
       "      <td>1</td>\n",
       "      <td>1</td>\n",
       "      <td>0</td>\n",
       "      <td>NaN</td>\n",
       "      <td>0</td>\n",
       "      <td>1</td>\n",
       "      <td>0</td>\n",
       "      <td>('BB McCullum', 'SC Ganguly')</td>\n",
       "      <td>NaN</td>\n",
       "      <td>False</td>\n",
       "    </tr>\n",
       "    <tr>\n",
       "      <th>1</th>\n",
       "      <td>131971</td>\n",
       "      <td>335982</td>\n",
       "      <td>18-04-2008</td>\n",
       "      <td>T20</td>\n",
       "      <td>Indian Premier League</td>\n",
       "      <td>1</td>\n",
       "      <td>Kolkata Knight Riders</td>\n",
       "      <td>Royal Challengers Bangalore</td>\n",
       "      <td>0</td>\n",
       "      <td>2</td>\n",
       "      <td>0.2</td>\n",
       "      <td>BB McCullum</td>\n",
       "      <td>2</td>\n",
       "      <td>0</td>\n",
       "      <td>1</td>\n",
       "      <td>P Kumar</td>\n",
       "      <td>1</td>\n",
       "      <td>0</td>\n",
       "      <td>0</td>\n",
       "      <td>0</td>\n",
       "      <td>False</td>\n",
       "      <td>NaN</td>\n",
       "      <td>SC Ganguly</td>\n",
       "      <td>1</td>\n",
       "      <td>NaN</td>\n",
       "      <td>NaN</td>\n",
       "      <td>NaN</td>\n",
       "      <td>NaN</td>\n",
       "      <td>NaN</td>\n",
       "      <td>NaN</td>\n",
       "      <td>NaN</td>\n",
       "      <td>NaN</td>\n",
       "      <td>False</td>\n",
       "      <td>BB McCullum</td>\n",
       "      <td>Kolkata Knight Riders</td>\n",
       "      <td>140 runs</td>\n",
       "      <td>Royal Challengers Bangalore</td>\n",
       "      <td>field</td>\n",
       "      <td>M Chinnaswamy Stadium</td>\n",
       "      <td>Bangalore</td>\n",
       "      <td>18</td>\n",
       "      <td>4</td>\n",
       "      <td>2008</td>\n",
       "      <td>2007/08</td>\n",
       "      <td>male</td>\n",
       "      <td>club</td>\n",
       "      <td>NaN</td>\n",
       "      <td>NaN</td>\n",
       "      <td>NaN</td>\n",
       "      <td>6</td>\n",
       "      <td>20</td>\n",
       "      <td>1</td>\n",
       "      <td>Unknown</td>\n",
       "      <td>Unknown</td>\n",
       "      <td>1</td>\n",
       "      <td>2</td>\n",
       "      <td>0</td>\n",
       "      <td>NaN</td>\n",
       "      <td>0</td>\n",
       "      <td>1</td>\n",
       "      <td>0</td>\n",
       "      <td>('BB McCullum', 'SC Ganguly')</td>\n",
       "      <td>NaN</td>\n",
       "      <td>False</td>\n",
       "    </tr>\n",
       "    <tr>\n",
       "      <th>2</th>\n",
       "      <td>131972</td>\n",
       "      <td>335982</td>\n",
       "      <td>18-04-2008</td>\n",
       "      <td>T20</td>\n",
       "      <td>Indian Premier League</td>\n",
       "      <td>1</td>\n",
       "      <td>Kolkata Knight Riders</td>\n",
       "      <td>Royal Challengers Bangalore</td>\n",
       "      <td>0</td>\n",
       "      <td>3</td>\n",
       "      <td>0.3</td>\n",
       "      <td>BB McCullum</td>\n",
       "      <td>2</td>\n",
       "      <td>0</td>\n",
       "      <td>0</td>\n",
       "      <td>P Kumar</td>\n",
       "      <td>0</td>\n",
       "      <td>1</td>\n",
       "      <td>1</td>\n",
       "      <td>1</td>\n",
       "      <td>False</td>\n",
       "      <td>wides</td>\n",
       "      <td>SC Ganguly</td>\n",
       "      <td>1</td>\n",
       "      <td>NaN</td>\n",
       "      <td>NaN</td>\n",
       "      <td>NaN</td>\n",
       "      <td>NaN</td>\n",
       "      <td>NaN</td>\n",
       "      <td>NaN</td>\n",
       "      <td>NaN</td>\n",
       "      <td>NaN</td>\n",
       "      <td>False</td>\n",
       "      <td>BB McCullum</td>\n",
       "      <td>Kolkata Knight Riders</td>\n",
       "      <td>140 runs</td>\n",
       "      <td>Royal Challengers Bangalore</td>\n",
       "      <td>field</td>\n",
       "      <td>M Chinnaswamy Stadium</td>\n",
       "      <td>Bangalore</td>\n",
       "      <td>18</td>\n",
       "      <td>4</td>\n",
       "      <td>2008</td>\n",
       "      <td>2007/08</td>\n",
       "      <td>male</td>\n",
       "      <td>club</td>\n",
       "      <td>NaN</td>\n",
       "      <td>NaN</td>\n",
       "      <td>NaN</td>\n",
       "      <td>6</td>\n",
       "      <td>20</td>\n",
       "      <td>1</td>\n",
       "      <td>Unknown</td>\n",
       "      <td>Unknown</td>\n",
       "      <td>2</td>\n",
       "      <td>2</td>\n",
       "      <td>0</td>\n",
       "      <td>NaN</td>\n",
       "      <td>0</td>\n",
       "      <td>1</td>\n",
       "      <td>0</td>\n",
       "      <td>('BB McCullum', 'SC Ganguly')</td>\n",
       "      <td>NaN</td>\n",
       "      <td>False</td>\n",
       "    </tr>\n",
       "    <tr>\n",
       "      <th>3</th>\n",
       "      <td>131973</td>\n",
       "      <td>335982</td>\n",
       "      <td>18-04-2008</td>\n",
       "      <td>T20</td>\n",
       "      <td>Indian Premier League</td>\n",
       "      <td>1</td>\n",
       "      <td>Kolkata Knight Riders</td>\n",
       "      <td>Royal Challengers Bangalore</td>\n",
       "      <td>0</td>\n",
       "      <td>3</td>\n",
       "      <td>0.3</td>\n",
       "      <td>BB McCullum</td>\n",
       "      <td>2</td>\n",
       "      <td>0</td>\n",
       "      <td>1</td>\n",
       "      <td>P Kumar</td>\n",
       "      <td>1</td>\n",
       "      <td>0</td>\n",
       "      <td>0</td>\n",
       "      <td>0</td>\n",
       "      <td>False</td>\n",
       "      <td>NaN</td>\n",
       "      <td>SC Ganguly</td>\n",
       "      <td>1</td>\n",
       "      <td>NaN</td>\n",
       "      <td>NaN</td>\n",
       "      <td>NaN</td>\n",
       "      <td>NaN</td>\n",
       "      <td>NaN</td>\n",
       "      <td>NaN</td>\n",
       "      <td>NaN</td>\n",
       "      <td>NaN</td>\n",
       "      <td>False</td>\n",
       "      <td>BB McCullum</td>\n",
       "      <td>Kolkata Knight Riders</td>\n",
       "      <td>140 runs</td>\n",
       "      <td>Royal Challengers Bangalore</td>\n",
       "      <td>field</td>\n",
       "      <td>M Chinnaswamy Stadium</td>\n",
       "      <td>Bangalore</td>\n",
       "      <td>18</td>\n",
       "      <td>4</td>\n",
       "      <td>2008</td>\n",
       "      <td>2007/08</td>\n",
       "      <td>male</td>\n",
       "      <td>club</td>\n",
       "      <td>NaN</td>\n",
       "      <td>NaN</td>\n",
       "      <td>NaN</td>\n",
       "      <td>6</td>\n",
       "      <td>20</td>\n",
       "      <td>1</td>\n",
       "      <td>Unknown</td>\n",
       "      <td>Unknown</td>\n",
       "      <td>2</td>\n",
       "      <td>3</td>\n",
       "      <td>0</td>\n",
       "      <td>NaN</td>\n",
       "      <td>0</td>\n",
       "      <td>2</td>\n",
       "      <td>0</td>\n",
       "      <td>('BB McCullum', 'SC Ganguly')</td>\n",
       "      <td>NaN</td>\n",
       "      <td>False</td>\n",
       "    </tr>\n",
       "    <tr>\n",
       "      <th>4</th>\n",
       "      <td>131974</td>\n",
       "      <td>335982</td>\n",
       "      <td>18-04-2008</td>\n",
       "      <td>T20</td>\n",
       "      <td>Indian Premier League</td>\n",
       "      <td>1</td>\n",
       "      <td>Kolkata Knight Riders</td>\n",
       "      <td>Royal Challengers Bangalore</td>\n",
       "      <td>0</td>\n",
       "      <td>4</td>\n",
       "      <td>0.4</td>\n",
       "      <td>BB McCullum</td>\n",
       "      <td>2</td>\n",
       "      <td>0</td>\n",
       "      <td>1</td>\n",
       "      <td>P Kumar</td>\n",
       "      <td>1</td>\n",
       "      <td>0</td>\n",
       "      <td>0</td>\n",
       "      <td>0</td>\n",
       "      <td>False</td>\n",
       "      <td>NaN</td>\n",
       "      <td>SC Ganguly</td>\n",
       "      <td>1</td>\n",
       "      <td>NaN</td>\n",
       "      <td>NaN</td>\n",
       "      <td>NaN</td>\n",
       "      <td>NaN</td>\n",
       "      <td>NaN</td>\n",
       "      <td>NaN</td>\n",
       "      <td>NaN</td>\n",
       "      <td>NaN</td>\n",
       "      <td>False</td>\n",
       "      <td>BB McCullum</td>\n",
       "      <td>Kolkata Knight Riders</td>\n",
       "      <td>140 runs</td>\n",
       "      <td>Royal Challengers Bangalore</td>\n",
       "      <td>field</td>\n",
       "      <td>M Chinnaswamy Stadium</td>\n",
       "      <td>Bangalore</td>\n",
       "      <td>18</td>\n",
       "      <td>4</td>\n",
       "      <td>2008</td>\n",
       "      <td>2007/08</td>\n",
       "      <td>male</td>\n",
       "      <td>club</td>\n",
       "      <td>NaN</td>\n",
       "      <td>NaN</td>\n",
       "      <td>NaN</td>\n",
       "      <td>6</td>\n",
       "      <td>20</td>\n",
       "      <td>1</td>\n",
       "      <td>Unknown</td>\n",
       "      <td>Unknown</td>\n",
       "      <td>2</td>\n",
       "      <td>4</td>\n",
       "      <td>0</td>\n",
       "      <td>NaN</td>\n",
       "      <td>0</td>\n",
       "      <td>3</td>\n",
       "      <td>0</td>\n",
       "      <td>('BB McCullum', 'SC Ganguly')</td>\n",
       "      <td>NaN</td>\n",
       "      <td>False</td>\n",
       "    </tr>\n",
       "  </tbody>\n",
       "</table>\n",
       "</div>"
      ],
      "text/plain": [
       "   Unnamed: 0  match_id        date match_type             event_name  \\\n",
       "0      131970    335982  18-04-2008        T20  Indian Premier League   \n",
       "1      131971    335982  18-04-2008        T20  Indian Premier League   \n",
       "2      131972    335982  18-04-2008        T20  Indian Premier League   \n",
       "3      131973    335982  18-04-2008        T20  Indian Premier League   \n",
       "4      131974    335982  18-04-2008        T20  Indian Premier League   \n",
       "\n",
       "   innings           batting_team                 bowling_team  over  ball  \\\n",
       "0        1  Kolkata Knight Riders  Royal Challengers Bangalore     0     1   \n",
       "1        1  Kolkata Knight Riders  Royal Challengers Bangalore     0     2   \n",
       "2        1  Kolkata Knight Riders  Royal Challengers Bangalore     0     3   \n",
       "3        1  Kolkata Knight Riders  Royal Challengers Bangalore     0     3   \n",
       "4        1  Kolkata Knight Riders  Royal Challengers Bangalore     0     4   \n",
       "\n",
       "   ball_no       batter  bat_pos  runs_batter  balls_faced   bowler  \\\n",
       "0      0.1   SC Ganguly        1            0            1  P Kumar   \n",
       "1      0.2  BB McCullum        2            0            1  P Kumar   \n",
       "2      0.3  BB McCullum        2            0            0  P Kumar   \n",
       "3      0.3  BB McCullum        2            0            1  P Kumar   \n",
       "4      0.4  BB McCullum        2            0            1  P Kumar   \n",
       "\n",
       "   valid_ball  runs_extras  runs_total  runs_bowler  runs_not_boundary  \\\n",
       "0           1            1           1            0              False   \n",
       "1           1            0           0            0              False   \n",
       "2           0            1           1            1              False   \n",
       "3           1            0           0            0              False   \n",
       "4           1            0           0            0              False   \n",
       "\n",
       "  extra_type  non_striker  non_striker_pos wicket_kind player_out fielders  \\\n",
       "0    legbyes  BB McCullum                2         NaN        NaN      NaN   \n",
       "1        NaN   SC Ganguly                1         NaN        NaN      NaN   \n",
       "2      wides   SC Ganguly                1         NaN        NaN      NaN   \n",
       "3        NaN   SC Ganguly                1         NaN        NaN      NaN   \n",
       "4        NaN   SC Ganguly                1         NaN        NaN      NaN   \n",
       "\n",
       "   runs_target review_batter team_reviewed review_decision umpire  \\\n",
       "0          NaN           NaN           NaN             NaN    NaN   \n",
       "1          NaN           NaN           NaN             NaN    NaN   \n",
       "2          NaN           NaN           NaN             NaN    NaN   \n",
       "3          NaN           NaN           NaN             NaN    NaN   \n",
       "4          NaN           NaN           NaN             NaN    NaN   \n",
       "\n",
       "   umpires_call player_of_match           match_won_by win_outcome  \\\n",
       "0         False     BB McCullum  Kolkata Knight Riders    140 runs   \n",
       "1         False     BB McCullum  Kolkata Knight Riders    140 runs   \n",
       "2         False     BB McCullum  Kolkata Knight Riders    140 runs   \n",
       "3         False     BB McCullum  Kolkata Knight Riders    140 runs   \n",
       "4         False     BB McCullum  Kolkata Knight Riders    140 runs   \n",
       "\n",
       "                   toss_winner toss_decision                  venue  \\\n",
       "0  Royal Challengers Bangalore         field  M Chinnaswamy Stadium   \n",
       "1  Royal Challengers Bangalore         field  M Chinnaswamy Stadium   \n",
       "2  Royal Challengers Bangalore         field  M Chinnaswamy Stadium   \n",
       "3  Royal Challengers Bangalore         field  M Chinnaswamy Stadium   \n",
       "4  Royal Challengers Bangalore         field  M Chinnaswamy Stadium   \n",
       "\n",
       "        city  day  month  year   season gender team_type superover_winner  \\\n",
       "0  Bangalore   18      4  2008  2007/08   male      club              NaN   \n",
       "1  Bangalore   18      4  2008  2007/08   male      club              NaN   \n",
       "2  Bangalore   18      4  2008  2007/08   male      club              NaN   \n",
       "3  Bangalore   18      4  2008  2007/08   male      club              NaN   \n",
       "4  Bangalore   18      4  2008  2007/08   male      club              NaN   \n",
       "\n",
       "  result_type method  balls_per_over  overs event_match_no    stage  \\\n",
       "0         NaN    NaN               6     20              1  Unknown   \n",
       "1         NaN    NaN               6     20              1  Unknown   \n",
       "2         NaN    NaN               6     20              1  Unknown   \n",
       "3         NaN    NaN               6     20              1  Unknown   \n",
       "4         NaN    NaN               6     20              1  Unknown   \n",
       "\n",
       "  match_number  team_runs  team_balls  team_wicket new_batter  batter_runs  \\\n",
       "0      Unknown          1           1            0        NaN            0   \n",
       "1      Unknown          1           2            0        NaN            0   \n",
       "2      Unknown          2           2            0        NaN            0   \n",
       "3      Unknown          2           3            0        NaN            0   \n",
       "4      Unknown          2           4            0        NaN            0   \n",
       "\n",
       "   batter_balls  bowler_wicket               batting_partners next_batter  \\\n",
       "0             1              0  ('BB McCullum', 'SC Ganguly')         NaN   \n",
       "1             1              0  ('BB McCullum', 'SC Ganguly')         NaN   \n",
       "2             1              0  ('BB McCullum', 'SC Ganguly')         NaN   \n",
       "3             2              0  ('BB McCullum', 'SC Ganguly')         NaN   \n",
       "4             3              0  ('BB McCullum', 'SC Ganguly')         NaN   \n",
       "\n",
       "   striker_out  \n",
       "0        False  \n",
       "1        False  \n",
       "2        False  \n",
       "3        False  \n",
       "4        False  "
      ]
     },
     "execution_count": 134,
     "metadata": {},
     "output_type": "execute_result"
    }
   ],
   "source": [
    "df.head()"
   ]
  },
  {
   "cell_type": "code",
   "execution_count": 135,
   "id": "b8e7adf0-3c18-4c33-9dbf-99137f9f837d",
   "metadata": {},
   "outputs": [
    {
     "data": {
      "text/html": [
       "<div>\n",
       "<style scoped>\n",
       "    .dataframe tbody tr th:only-of-type {\n",
       "        vertical-align: middle;\n",
       "    }\n",
       "\n",
       "    .dataframe tbody tr th {\n",
       "        vertical-align: top;\n",
       "    }\n",
       "\n",
       "    .dataframe thead th {\n",
       "        text-align: right;\n",
       "    }\n",
       "</style>\n",
       "<table border=\"1\" class=\"dataframe\">\n",
       "  <thead>\n",
       "    <tr style=\"text-align: right;\">\n",
       "      <th></th>\n",
       "      <th>Unnamed: 0</th>\n",
       "      <th>match_id</th>\n",
       "      <th>date</th>\n",
       "      <th>match_type</th>\n",
       "      <th>event_name</th>\n",
       "      <th>innings</th>\n",
       "      <th>batting_team</th>\n",
       "      <th>bowling_team</th>\n",
       "      <th>over</th>\n",
       "      <th>ball</th>\n",
       "      <th>ball_no</th>\n",
       "      <th>batter</th>\n",
       "      <th>bat_pos</th>\n",
       "      <th>runs_batter</th>\n",
       "      <th>balls_faced</th>\n",
       "      <th>bowler</th>\n",
       "      <th>valid_ball</th>\n",
       "      <th>runs_extras</th>\n",
       "      <th>runs_total</th>\n",
       "      <th>runs_bowler</th>\n",
       "      <th>runs_not_boundary</th>\n",
       "      <th>extra_type</th>\n",
       "      <th>non_striker</th>\n",
       "      <th>non_striker_pos</th>\n",
       "      <th>wicket_kind</th>\n",
       "      <th>player_out</th>\n",
       "      <th>fielders</th>\n",
       "      <th>runs_target</th>\n",
       "      <th>review_batter</th>\n",
       "      <th>team_reviewed</th>\n",
       "      <th>review_decision</th>\n",
       "      <th>umpire</th>\n",
       "      <th>umpires_call</th>\n",
       "      <th>player_of_match</th>\n",
       "      <th>match_won_by</th>\n",
       "      <th>win_outcome</th>\n",
       "      <th>toss_winner</th>\n",
       "      <th>toss_decision</th>\n",
       "      <th>venue</th>\n",
       "      <th>city</th>\n",
       "      <th>day</th>\n",
       "      <th>month</th>\n",
       "      <th>year</th>\n",
       "      <th>season</th>\n",
       "      <th>gender</th>\n",
       "      <th>team_type</th>\n",
       "      <th>superover_winner</th>\n",
       "      <th>result_type</th>\n",
       "      <th>method</th>\n",
       "      <th>balls_per_over</th>\n",
       "      <th>overs</th>\n",
       "      <th>event_match_no</th>\n",
       "      <th>stage</th>\n",
       "      <th>match_number</th>\n",
       "      <th>team_runs</th>\n",
       "      <th>team_balls</th>\n",
       "      <th>team_wicket</th>\n",
       "      <th>new_batter</th>\n",
       "      <th>batter_runs</th>\n",
       "      <th>batter_balls</th>\n",
       "      <th>bowler_wicket</th>\n",
       "      <th>batting_partners</th>\n",
       "      <th>next_batter</th>\n",
       "      <th>striker_out</th>\n",
       "    </tr>\n",
       "  </thead>\n",
       "  <tbody>\n",
       "    <tr>\n",
       "      <th>278200</th>\n",
       "      <td>277951</td>\n",
       "      <td>1473511</td>\n",
       "      <td>03-06-2025</td>\n",
       "      <td>T20</td>\n",
       "      <td>Indian Premier League</td>\n",
       "      <td>2</td>\n",
       "      <td>Punjab Kings</td>\n",
       "      <td>Royal Challengers Bengaluru</td>\n",
       "      <td>19</td>\n",
       "      <td>2</td>\n",
       "      <td>19.2</td>\n",
       "      <td>Shashank Singh</td>\n",
       "      <td>6</td>\n",
       "      <td>0</td>\n",
       "      <td>1</td>\n",
       "      <td>JR Hazlewood</td>\n",
       "      <td>1</td>\n",
       "      <td>0</td>\n",
       "      <td>0</td>\n",
       "      <td>0</td>\n",
       "      <td>False</td>\n",
       "      <td>NaN</td>\n",
       "      <td>KA Jamieson</td>\n",
       "      <td>9</td>\n",
       "      <td>NaN</td>\n",
       "      <td>NaN</td>\n",
       "      <td>NaN</td>\n",
       "      <td>191.0</td>\n",
       "      <td>NaN</td>\n",
       "      <td>NaN</td>\n",
       "      <td>NaN</td>\n",
       "      <td>NaN</td>\n",
       "      <td>False</td>\n",
       "      <td>KH Pandya</td>\n",
       "      <td>Royal Challengers Bengaluru</td>\n",
       "      <td>6 runs</td>\n",
       "      <td>Punjab Kings</td>\n",
       "      <td>field</td>\n",
       "      <td>Narendra Modi Stadium, Ahmedabad</td>\n",
       "      <td>Ahmedabad</td>\n",
       "      <td>3</td>\n",
       "      <td>6</td>\n",
       "      <td>2025</td>\n",
       "      <td>2025</td>\n",
       "      <td>male</td>\n",
       "      <td>club</td>\n",
       "      <td>NaN</td>\n",
       "      <td>NaN</td>\n",
       "      <td>NaN</td>\n",
       "      <td>6</td>\n",
       "      <td>20</td>\n",
       "      <td>Unknown</td>\n",
       "      <td>Final</td>\n",
       "      <td>Unknown</td>\n",
       "      <td>162</td>\n",
       "      <td>116</td>\n",
       "      <td>7</td>\n",
       "      <td>NaN</td>\n",
       "      <td>39</td>\n",
       "      <td>26</td>\n",
       "      <td>0</td>\n",
       "      <td>('KA Jamieson', 'Shashank Singh')</td>\n",
       "      <td>NaN</td>\n",
       "      <td>False</td>\n",
       "    </tr>\n",
       "    <tr>\n",
       "      <th>278201</th>\n",
       "      <td>277952</td>\n",
       "      <td>1473511</td>\n",
       "      <td>03-06-2025</td>\n",
       "      <td>T20</td>\n",
       "      <td>Indian Premier League</td>\n",
       "      <td>2</td>\n",
       "      <td>Punjab Kings</td>\n",
       "      <td>Royal Challengers Bengaluru</td>\n",
       "      <td>19</td>\n",
       "      <td>3</td>\n",
       "      <td>19.3</td>\n",
       "      <td>Shashank Singh</td>\n",
       "      <td>6</td>\n",
       "      <td>6</td>\n",
       "      <td>1</td>\n",
       "      <td>JR Hazlewood</td>\n",
       "      <td>1</td>\n",
       "      <td>0</td>\n",
       "      <td>6</td>\n",
       "      <td>6</td>\n",
       "      <td>False</td>\n",
       "      <td>NaN</td>\n",
       "      <td>KA Jamieson</td>\n",
       "      <td>9</td>\n",
       "      <td>NaN</td>\n",
       "      <td>NaN</td>\n",
       "      <td>NaN</td>\n",
       "      <td>191.0</td>\n",
       "      <td>NaN</td>\n",
       "      <td>NaN</td>\n",
       "      <td>NaN</td>\n",
       "      <td>NaN</td>\n",
       "      <td>False</td>\n",
       "      <td>KH Pandya</td>\n",
       "      <td>Royal Challengers Bengaluru</td>\n",
       "      <td>6 runs</td>\n",
       "      <td>Punjab Kings</td>\n",
       "      <td>field</td>\n",
       "      <td>Narendra Modi Stadium, Ahmedabad</td>\n",
       "      <td>Ahmedabad</td>\n",
       "      <td>3</td>\n",
       "      <td>6</td>\n",
       "      <td>2025</td>\n",
       "      <td>2025</td>\n",
       "      <td>male</td>\n",
       "      <td>club</td>\n",
       "      <td>NaN</td>\n",
       "      <td>NaN</td>\n",
       "      <td>NaN</td>\n",
       "      <td>6</td>\n",
       "      <td>20</td>\n",
       "      <td>Unknown</td>\n",
       "      <td>Final</td>\n",
       "      <td>Unknown</td>\n",
       "      <td>168</td>\n",
       "      <td>117</td>\n",
       "      <td>7</td>\n",
       "      <td>NaN</td>\n",
       "      <td>45</td>\n",
       "      <td>27</td>\n",
       "      <td>0</td>\n",
       "      <td>('KA Jamieson', 'Shashank Singh')</td>\n",
       "      <td>NaN</td>\n",
       "      <td>False</td>\n",
       "    </tr>\n",
       "    <tr>\n",
       "      <th>278202</th>\n",
       "      <td>277953</td>\n",
       "      <td>1473511</td>\n",
       "      <td>03-06-2025</td>\n",
       "      <td>T20</td>\n",
       "      <td>Indian Premier League</td>\n",
       "      <td>2</td>\n",
       "      <td>Punjab Kings</td>\n",
       "      <td>Royal Challengers Bengaluru</td>\n",
       "      <td>19</td>\n",
       "      <td>4</td>\n",
       "      <td>19.4</td>\n",
       "      <td>Shashank Singh</td>\n",
       "      <td>6</td>\n",
       "      <td>4</td>\n",
       "      <td>1</td>\n",
       "      <td>JR Hazlewood</td>\n",
       "      <td>1</td>\n",
       "      <td>0</td>\n",
       "      <td>4</td>\n",
       "      <td>4</td>\n",
       "      <td>False</td>\n",
       "      <td>NaN</td>\n",
       "      <td>KA Jamieson</td>\n",
       "      <td>9</td>\n",
       "      <td>NaN</td>\n",
       "      <td>NaN</td>\n",
       "      <td>NaN</td>\n",
       "      <td>191.0</td>\n",
       "      <td>NaN</td>\n",
       "      <td>NaN</td>\n",
       "      <td>NaN</td>\n",
       "      <td>NaN</td>\n",
       "      <td>False</td>\n",
       "      <td>KH Pandya</td>\n",
       "      <td>Royal Challengers Bengaluru</td>\n",
       "      <td>6 runs</td>\n",
       "      <td>Punjab Kings</td>\n",
       "      <td>field</td>\n",
       "      <td>Narendra Modi Stadium, Ahmedabad</td>\n",
       "      <td>Ahmedabad</td>\n",
       "      <td>3</td>\n",
       "      <td>6</td>\n",
       "      <td>2025</td>\n",
       "      <td>2025</td>\n",
       "      <td>male</td>\n",
       "      <td>club</td>\n",
       "      <td>NaN</td>\n",
       "      <td>NaN</td>\n",
       "      <td>NaN</td>\n",
       "      <td>6</td>\n",
       "      <td>20</td>\n",
       "      <td>Unknown</td>\n",
       "      <td>Final</td>\n",
       "      <td>Unknown</td>\n",
       "      <td>172</td>\n",
       "      <td>118</td>\n",
       "      <td>7</td>\n",
       "      <td>NaN</td>\n",
       "      <td>49</td>\n",
       "      <td>28</td>\n",
       "      <td>0</td>\n",
       "      <td>('KA Jamieson', 'Shashank Singh')</td>\n",
       "      <td>NaN</td>\n",
       "      <td>False</td>\n",
       "    </tr>\n",
       "    <tr>\n",
       "      <th>278203</th>\n",
       "      <td>277954</td>\n",
       "      <td>1473511</td>\n",
       "      <td>03-06-2025</td>\n",
       "      <td>T20</td>\n",
       "      <td>Indian Premier League</td>\n",
       "      <td>2</td>\n",
       "      <td>Punjab Kings</td>\n",
       "      <td>Royal Challengers Bengaluru</td>\n",
       "      <td>19</td>\n",
       "      <td>5</td>\n",
       "      <td>19.5</td>\n",
       "      <td>Shashank Singh</td>\n",
       "      <td>6</td>\n",
       "      <td>6</td>\n",
       "      <td>1</td>\n",
       "      <td>JR Hazlewood</td>\n",
       "      <td>1</td>\n",
       "      <td>0</td>\n",
       "      <td>6</td>\n",
       "      <td>6</td>\n",
       "      <td>False</td>\n",
       "      <td>NaN</td>\n",
       "      <td>KA Jamieson</td>\n",
       "      <td>9</td>\n",
       "      <td>NaN</td>\n",
       "      <td>NaN</td>\n",
       "      <td>NaN</td>\n",
       "      <td>191.0</td>\n",
       "      <td>NaN</td>\n",
       "      <td>NaN</td>\n",
       "      <td>NaN</td>\n",
       "      <td>NaN</td>\n",
       "      <td>False</td>\n",
       "      <td>KH Pandya</td>\n",
       "      <td>Royal Challengers Bengaluru</td>\n",
       "      <td>6 runs</td>\n",
       "      <td>Punjab Kings</td>\n",
       "      <td>field</td>\n",
       "      <td>Narendra Modi Stadium, Ahmedabad</td>\n",
       "      <td>Ahmedabad</td>\n",
       "      <td>3</td>\n",
       "      <td>6</td>\n",
       "      <td>2025</td>\n",
       "      <td>2025</td>\n",
       "      <td>male</td>\n",
       "      <td>club</td>\n",
       "      <td>NaN</td>\n",
       "      <td>NaN</td>\n",
       "      <td>NaN</td>\n",
       "      <td>6</td>\n",
       "      <td>20</td>\n",
       "      <td>Unknown</td>\n",
       "      <td>Final</td>\n",
       "      <td>Unknown</td>\n",
       "      <td>178</td>\n",
       "      <td>119</td>\n",
       "      <td>7</td>\n",
       "      <td>NaN</td>\n",
       "      <td>55</td>\n",
       "      <td>29</td>\n",
       "      <td>0</td>\n",
       "      <td>('KA Jamieson', 'Shashank Singh')</td>\n",
       "      <td>NaN</td>\n",
       "      <td>False</td>\n",
       "    </tr>\n",
       "    <tr>\n",
       "      <th>278204</th>\n",
       "      <td>277955</td>\n",
       "      <td>1473511</td>\n",
       "      <td>03-06-2025</td>\n",
       "      <td>T20</td>\n",
       "      <td>Indian Premier League</td>\n",
       "      <td>2</td>\n",
       "      <td>Punjab Kings</td>\n",
       "      <td>Royal Challengers Bengaluru</td>\n",
       "      <td>19</td>\n",
       "      <td>6</td>\n",
       "      <td>19.6</td>\n",
       "      <td>Shashank Singh</td>\n",
       "      <td>6</td>\n",
       "      <td>6</td>\n",
       "      <td>1</td>\n",
       "      <td>JR Hazlewood</td>\n",
       "      <td>1</td>\n",
       "      <td>0</td>\n",
       "      <td>6</td>\n",
       "      <td>6</td>\n",
       "      <td>False</td>\n",
       "      <td>NaN</td>\n",
       "      <td>KA Jamieson</td>\n",
       "      <td>9</td>\n",
       "      <td>NaN</td>\n",
       "      <td>NaN</td>\n",
       "      <td>NaN</td>\n",
       "      <td>191.0</td>\n",
       "      <td>NaN</td>\n",
       "      <td>NaN</td>\n",
       "      <td>NaN</td>\n",
       "      <td>NaN</td>\n",
       "      <td>False</td>\n",
       "      <td>KH Pandya</td>\n",
       "      <td>Royal Challengers Bengaluru</td>\n",
       "      <td>6 runs</td>\n",
       "      <td>Punjab Kings</td>\n",
       "      <td>field</td>\n",
       "      <td>Narendra Modi Stadium, Ahmedabad</td>\n",
       "      <td>Ahmedabad</td>\n",
       "      <td>3</td>\n",
       "      <td>6</td>\n",
       "      <td>2025</td>\n",
       "      <td>2025</td>\n",
       "      <td>male</td>\n",
       "      <td>club</td>\n",
       "      <td>NaN</td>\n",
       "      <td>NaN</td>\n",
       "      <td>NaN</td>\n",
       "      <td>6</td>\n",
       "      <td>20</td>\n",
       "      <td>Unknown</td>\n",
       "      <td>Final</td>\n",
       "      <td>Unknown</td>\n",
       "      <td>184</td>\n",
       "      <td>120</td>\n",
       "      <td>7</td>\n",
       "      <td>NaN</td>\n",
       "      <td>61</td>\n",
       "      <td>30</td>\n",
       "      <td>0</td>\n",
       "      <td>('KA Jamieson', 'Shashank Singh')</td>\n",
       "      <td>NaN</td>\n",
       "      <td>False</td>\n",
       "    </tr>\n",
       "  </tbody>\n",
       "</table>\n",
       "</div>"
      ],
      "text/plain": [
       "        Unnamed: 0  match_id        date match_type             event_name  \\\n",
       "278200      277951   1473511  03-06-2025        T20  Indian Premier League   \n",
       "278201      277952   1473511  03-06-2025        T20  Indian Premier League   \n",
       "278202      277953   1473511  03-06-2025        T20  Indian Premier League   \n",
       "278203      277954   1473511  03-06-2025        T20  Indian Premier League   \n",
       "278204      277955   1473511  03-06-2025        T20  Indian Premier League   \n",
       "\n",
       "        innings  batting_team                 bowling_team  over  ball  \\\n",
       "278200        2  Punjab Kings  Royal Challengers Bengaluru    19     2   \n",
       "278201        2  Punjab Kings  Royal Challengers Bengaluru    19     3   \n",
       "278202        2  Punjab Kings  Royal Challengers Bengaluru    19     4   \n",
       "278203        2  Punjab Kings  Royal Challengers Bengaluru    19     5   \n",
       "278204        2  Punjab Kings  Royal Challengers Bengaluru    19     6   \n",
       "\n",
       "        ball_no          batter  bat_pos  runs_batter  balls_faced  \\\n",
       "278200     19.2  Shashank Singh        6            0            1   \n",
       "278201     19.3  Shashank Singh        6            6            1   \n",
       "278202     19.4  Shashank Singh        6            4            1   \n",
       "278203     19.5  Shashank Singh        6            6            1   \n",
       "278204     19.6  Shashank Singh        6            6            1   \n",
       "\n",
       "              bowler  valid_ball  runs_extras  runs_total  runs_bowler  \\\n",
       "278200  JR Hazlewood           1            0           0            0   \n",
       "278201  JR Hazlewood           1            0           6            6   \n",
       "278202  JR Hazlewood           1            0           4            4   \n",
       "278203  JR Hazlewood           1            0           6            6   \n",
       "278204  JR Hazlewood           1            0           6            6   \n",
       "\n",
       "        runs_not_boundary extra_type  non_striker  non_striker_pos  \\\n",
       "278200              False        NaN  KA Jamieson                9   \n",
       "278201              False        NaN  KA Jamieson                9   \n",
       "278202              False        NaN  KA Jamieson                9   \n",
       "278203              False        NaN  KA Jamieson                9   \n",
       "278204              False        NaN  KA Jamieson                9   \n",
       "\n",
       "       wicket_kind player_out fielders  runs_target review_batter  \\\n",
       "278200         NaN        NaN      NaN        191.0           NaN   \n",
       "278201         NaN        NaN      NaN        191.0           NaN   \n",
       "278202         NaN        NaN      NaN        191.0           NaN   \n",
       "278203         NaN        NaN      NaN        191.0           NaN   \n",
       "278204         NaN        NaN      NaN        191.0           NaN   \n",
       "\n",
       "       team_reviewed review_decision umpire  umpires_call player_of_match  \\\n",
       "278200           NaN             NaN    NaN         False       KH Pandya   \n",
       "278201           NaN             NaN    NaN         False       KH Pandya   \n",
       "278202           NaN             NaN    NaN         False       KH Pandya   \n",
       "278203           NaN             NaN    NaN         False       KH Pandya   \n",
       "278204           NaN             NaN    NaN         False       KH Pandya   \n",
       "\n",
       "                       match_won_by win_outcome   toss_winner toss_decision  \\\n",
       "278200  Royal Challengers Bengaluru      6 runs  Punjab Kings         field   \n",
       "278201  Royal Challengers Bengaluru      6 runs  Punjab Kings         field   \n",
       "278202  Royal Challengers Bengaluru      6 runs  Punjab Kings         field   \n",
       "278203  Royal Challengers Bengaluru      6 runs  Punjab Kings         field   \n",
       "278204  Royal Challengers Bengaluru      6 runs  Punjab Kings         field   \n",
       "\n",
       "                                   venue       city  day  month  year season  \\\n",
       "278200  Narendra Modi Stadium, Ahmedabad  Ahmedabad    3      6  2025   2025   \n",
       "278201  Narendra Modi Stadium, Ahmedabad  Ahmedabad    3      6  2025   2025   \n",
       "278202  Narendra Modi Stadium, Ahmedabad  Ahmedabad    3      6  2025   2025   \n",
       "278203  Narendra Modi Stadium, Ahmedabad  Ahmedabad    3      6  2025   2025   \n",
       "278204  Narendra Modi Stadium, Ahmedabad  Ahmedabad    3      6  2025   2025   \n",
       "\n",
       "       gender team_type superover_winner result_type method  balls_per_over  \\\n",
       "278200   male      club              NaN         NaN    NaN               6   \n",
       "278201   male      club              NaN         NaN    NaN               6   \n",
       "278202   male      club              NaN         NaN    NaN               6   \n",
       "278203   male      club              NaN         NaN    NaN               6   \n",
       "278204   male      club              NaN         NaN    NaN               6   \n",
       "\n",
       "        overs event_match_no  stage match_number  team_runs  team_balls  \\\n",
       "278200     20        Unknown  Final      Unknown        162         116   \n",
       "278201     20        Unknown  Final      Unknown        168         117   \n",
       "278202     20        Unknown  Final      Unknown        172         118   \n",
       "278203     20        Unknown  Final      Unknown        178         119   \n",
       "278204     20        Unknown  Final      Unknown        184         120   \n",
       "\n",
       "        team_wicket new_batter  batter_runs  batter_balls  bowler_wicket  \\\n",
       "278200            7        NaN           39            26              0   \n",
       "278201            7        NaN           45            27              0   \n",
       "278202            7        NaN           49            28              0   \n",
       "278203            7        NaN           55            29              0   \n",
       "278204            7        NaN           61            30              0   \n",
       "\n",
       "                         batting_partners next_batter  striker_out  \n",
       "278200  ('KA Jamieson', 'Shashank Singh')         NaN        False  \n",
       "278201  ('KA Jamieson', 'Shashank Singh')         NaN        False  \n",
       "278202  ('KA Jamieson', 'Shashank Singh')         NaN        False  \n",
       "278203  ('KA Jamieson', 'Shashank Singh')         NaN        False  \n",
       "278204  ('KA Jamieson', 'Shashank Singh')         NaN        False  "
      ]
     },
     "execution_count": 135,
     "metadata": {},
     "output_type": "execute_result"
    }
   ],
   "source": [
    "df.tail()"
   ]
  },
  {
   "cell_type": "code",
   "execution_count": 136,
   "id": "5cb88c66-be3a-4917-bb70-3a90bee8a590",
   "metadata": {},
   "outputs": [
    {
     "data": {
      "text/plain": [
       "(278205, 64)"
      ]
     },
     "execution_count": 136,
     "metadata": {},
     "output_type": "execute_result"
    }
   ],
   "source": [
    "df.shape"
   ]
  },
  {
   "cell_type": "code",
   "execution_count": 137,
   "id": "67eea60e-12d6-48ad-b807-9b4fa548f5b5",
   "metadata": {},
   "outputs": [
    {
     "data": {
      "text/plain": [
       "Index(['Unnamed: 0', 'match_id', 'date', 'match_type', 'event_name', 'innings',\n",
       "       'batting_team', 'bowling_team', 'over', 'ball', 'ball_no', 'batter',\n",
       "       'bat_pos', 'runs_batter', 'balls_faced', 'bowler', 'valid_ball',\n",
       "       'runs_extras', 'runs_total', 'runs_bowler', 'runs_not_boundary',\n",
       "       'extra_type', 'non_striker', 'non_striker_pos', 'wicket_kind',\n",
       "       'player_out', 'fielders', 'runs_target', 'review_batter',\n",
       "       'team_reviewed', 'review_decision', 'umpire', 'umpires_call',\n",
       "       'player_of_match', 'match_won_by', 'win_outcome', 'toss_winner',\n",
       "       'toss_decision', 'venue', 'city', 'day', 'month', 'year', 'season',\n",
       "       'gender', 'team_type', 'superover_winner', 'result_type', 'method',\n",
       "       'balls_per_over', 'overs', 'event_match_no', 'stage', 'match_number',\n",
       "       'team_runs', 'team_balls', 'team_wicket', 'new_batter', 'batter_runs',\n",
       "       'batter_balls', 'bowler_wicket', 'batting_partners', 'next_batter',\n",
       "       'striker_out'],\n",
       "      dtype='object')"
      ]
     },
     "execution_count": 137,
     "metadata": {},
     "output_type": "execute_result"
    }
   ],
   "source": [
    "df.columns"
   ]
  },
  {
   "cell_type": "code",
   "execution_count": 138,
   "id": "ef7ddf15-5363-4667-8760-6266fc18c92b",
   "metadata": {},
   "outputs": [],
   "source": [
    "drop_cols = [\n",
    "    'Unnamed: 0', 'match_id', 'date', 'match_type', 'event_name', \n",
    "    'ball', 'runs_bowler', 'runs_not_boundary', 'extra_type',\n",
    "    'non_striker', 'non_striker_pos', 'fielders', 'runs_target',\n",
    "    'review_batter', 'team_reviewed', 'review_decision',\n",
    "    'umpire', 'umpires_call', 'player_of_match', 'toss_winner',\n",
    "    'toss_decision', 'day', 'month', 'year', 'gender', 'team_type',\n",
    "    'superover_winner', 'result_type', 'method', 'balls_per_over',\n",
    "    'overs', 'event_match_no', 'stage', 'match_number',\n",
    "    'team_runs', 'team_balls', 'team_wicket', 'new_batter',\n",
    "    'batter_runs', 'batter_balls', 'bowler_wicket',\n",
    "    'batting_partners', 'next_batter', 'striker_out'\n",
    "]\n",
    "\n",
    "df = df.drop(columns=drop_cols)"
   ]
  },
  {
   "cell_type": "code",
   "execution_count": 139,
   "id": "5bf06ed7-06c1-40cf-9bdd-6114ab58b53e",
   "metadata": {},
   "outputs": [
    {
     "data": {
      "text/plain": [
       "Index(['innings', 'batting_team', 'bowling_team', 'over', 'ball_no', 'batter',\n",
       "       'bat_pos', 'runs_batter', 'balls_faced', 'bowler', 'valid_ball',\n",
       "       'runs_extras', 'runs_total', 'wicket_kind', 'player_out',\n",
       "       'match_won_by', 'win_outcome', 'venue', 'city', 'season'],\n",
       "      dtype='object')"
      ]
     },
     "execution_count": 139,
     "metadata": {},
     "output_type": "execute_result"
    }
   ],
   "source": [
    "df.columns"
   ]
  },
  {
   "cell_type": "code",
   "execution_count": 140,
   "id": "7f96954d-3192-4a03-888d-258fa7c9158a",
   "metadata": {},
   "outputs": [
    {
     "name": "stdout",
     "output_type": "stream",
     "text": [
      "<class 'pandas.core.frame.DataFrame'>\n",
      "RangeIndex: 278205 entries, 0 to 278204\n",
      "Data columns (total 20 columns):\n",
      " #   Column        Non-Null Count   Dtype  \n",
      "---  ------        --------------   -----  \n",
      " 0   innings       278205 non-null  int64  \n",
      " 1   batting_team  278205 non-null  object \n",
      " 2   bowling_team  278205 non-null  object \n",
      " 3   over          278205 non-null  int64  \n",
      " 4   ball_no       278205 non-null  float64\n",
      " 5   batter        278205 non-null  object \n",
      " 6   bat_pos       278205 non-null  int64  \n",
      " 7   runs_batter   278205 non-null  int64  \n",
      " 8   balls_faced   278205 non-null  int64  \n",
      " 9   bowler        278205 non-null  object \n",
      " 10  valid_ball    278205 non-null  int64  \n",
      " 11  runs_extras   278205 non-null  int64  \n",
      " 12  runs_total    278205 non-null  int64  \n",
      " 13  wicket_kind   13823 non-null   object \n",
      " 14  player_out    13823 non-null   object \n",
      " 15  match_won_by  278205 non-null  object \n",
      " 16  win_outcome   273503 non-null  object \n",
      " 17  venue         278205 non-null  object \n",
      " 18  city          278205 non-null  object \n",
      " 19  season        278205 non-null  object \n",
      "dtypes: float64(1), int64(8), object(11)\n",
      "memory usage: 42.5+ MB\n"
     ]
    }
   ],
   "source": [
    "df.info()"
   ]
  },
  {
   "cell_type": "code",
   "execution_count": 141,
   "id": "5ca4b305-17ec-4637-a18d-33e46e971598",
   "metadata": {},
   "outputs": [
    {
     "name": "stdout",
     "output_type": "stream",
     "text": [
      "              Null Count\n",
      "innings                0\n",
      "batting_team           0\n",
      "bowling_team           0\n",
      "over                   0\n",
      "ball_no                0\n",
      "batter                 0\n",
      "bat_pos                0\n",
      "runs_batter            0\n",
      "balls_faced            0\n",
      "bowler                 0\n",
      "valid_ball             0\n",
      "runs_extras            0\n",
      "runs_total             0\n",
      "wicket_kind       264382\n",
      "player_out        264382\n",
      "match_won_by           0\n",
      "win_outcome         4702\n",
      "venue                  0\n",
      "city                   0\n",
      "season                 0\n"
     ]
    }
   ],
   "source": [
    "print(df.isnull().sum().to_frame(\"Null Count\"))"
   ]
  },
  {
   "cell_type": "code",
   "execution_count": 142,
   "id": "c1895d46-85a7-40af-8690-836cedc6ac34",
   "metadata": {},
   "outputs": [
    {
     "data": {
      "text/plain": [
       "420"
      ]
     },
     "execution_count": 142,
     "metadata": {},
     "output_type": "execute_result"
    }
   ],
   "source": [
    "df.duplicated().sum()"
   ]
  },
  {
   "cell_type": "code",
   "execution_count": 143,
   "id": "8301c974-f9f4-4b36-9fa5-c274789eaa49",
   "metadata": {},
   "outputs": [
    {
     "data": {
      "text/html": [
       "<div>\n",
       "<style scoped>\n",
       "    .dataframe tbody tr th:only-of-type {\n",
       "        vertical-align: middle;\n",
       "    }\n",
       "\n",
       "    .dataframe tbody tr th {\n",
       "        vertical-align: top;\n",
       "    }\n",
       "\n",
       "    .dataframe thead th {\n",
       "        text-align: right;\n",
       "    }\n",
       "</style>\n",
       "<table border=\"1\" class=\"dataframe\">\n",
       "  <thead>\n",
       "    <tr style=\"text-align: right;\">\n",
       "      <th></th>\n",
       "      <th>innings</th>\n",
       "      <th>over</th>\n",
       "      <th>ball_no</th>\n",
       "      <th>bat_pos</th>\n",
       "      <th>runs_batter</th>\n",
       "      <th>balls_faced</th>\n",
       "      <th>valid_ball</th>\n",
       "      <th>runs_extras</th>\n",
       "      <th>runs_total</th>\n",
       "    </tr>\n",
       "  </thead>\n",
       "  <tbody>\n",
       "    <tr>\n",
       "      <th>count</th>\n",
       "      <td>278205.000000</td>\n",
       "      <td>278205.000000</td>\n",
       "      <td>278205.000000</td>\n",
       "      <td>278205.000000</td>\n",
       "      <td>278205.000000</td>\n",
       "      <td>278205.000000</td>\n",
       "      <td>278205.000000</td>\n",
       "      <td>278205.000000</td>\n",
       "      <td>278205.00000</td>\n",
       "    </tr>\n",
       "    <tr>\n",
       "      <th>mean</th>\n",
       "      <td>1.482914</td>\n",
       "      <td>9.193839</td>\n",
       "      <td>9.542725</td>\n",
       "      <td>3.612555</td>\n",
       "      <td>1.277378</td>\n",
       "      <td>0.967362</td>\n",
       "      <td>0.963182</td>\n",
       "      <td>0.067971</td>\n",
       "      <td>1.34535</td>\n",
       "    </tr>\n",
       "    <tr>\n",
       "      <th>std</th>\n",
       "      <td>0.502571</td>\n",
       "      <td>5.681511</td>\n",
       "      <td>5.682938</td>\n",
       "      <td>2.168978</td>\n",
       "      <td>1.651107</td>\n",
       "      <td>0.177687</td>\n",
       "      <td>0.188315</td>\n",
       "      <td>0.343033</td>\n",
       "      <td>1.63762</td>\n",
       "    </tr>\n",
       "    <tr>\n",
       "      <th>min</th>\n",
       "      <td>1.000000</td>\n",
       "      <td>0.000000</td>\n",
       "      <td>0.100000</td>\n",
       "      <td>1.000000</td>\n",
       "      <td>0.000000</td>\n",
       "      <td>0.000000</td>\n",
       "      <td>0.000000</td>\n",
       "      <td>0.000000</td>\n",
       "      <td>0.00000</td>\n",
       "    </tr>\n",
       "    <tr>\n",
       "      <th>25%</th>\n",
       "      <td>1.000000</td>\n",
       "      <td>4.000000</td>\n",
       "      <td>4.500000</td>\n",
       "      <td>2.000000</td>\n",
       "      <td>0.000000</td>\n",
       "      <td>1.000000</td>\n",
       "      <td>1.000000</td>\n",
       "      <td>0.000000</td>\n",
       "      <td>0.00000</td>\n",
       "    </tr>\n",
       "    <tr>\n",
       "      <th>50%</th>\n",
       "      <td>1.000000</td>\n",
       "      <td>9.000000</td>\n",
       "      <td>9.400000</td>\n",
       "      <td>3.000000</td>\n",
       "      <td>1.000000</td>\n",
       "      <td>1.000000</td>\n",
       "      <td>1.000000</td>\n",
       "      <td>0.000000</td>\n",
       "      <td>1.00000</td>\n",
       "    </tr>\n",
       "    <tr>\n",
       "      <th>75%</th>\n",
       "      <td>2.000000</td>\n",
       "      <td>14.000000</td>\n",
       "      <td>14.400000</td>\n",
       "      <td>5.000000</td>\n",
       "      <td>1.000000</td>\n",
       "      <td>1.000000</td>\n",
       "      <td>1.000000</td>\n",
       "      <td>0.000000</td>\n",
       "      <td>1.00000</td>\n",
       "    </tr>\n",
       "    <tr>\n",
       "      <th>max</th>\n",
       "      <td>6.000000</td>\n",
       "      <td>19.000000</td>\n",
       "      <td>19.600000</td>\n",
       "      <td>11.000000</td>\n",
       "      <td>6.000000</td>\n",
       "      <td>1.000000</td>\n",
       "      <td>1.000000</td>\n",
       "      <td>7.000000</td>\n",
       "      <td>7.00000</td>\n",
       "    </tr>\n",
       "  </tbody>\n",
       "</table>\n",
       "</div>"
      ],
      "text/plain": [
       "             innings           over        ball_no        bat_pos  \\\n",
       "count  278205.000000  278205.000000  278205.000000  278205.000000   \n",
       "mean        1.482914       9.193839       9.542725       3.612555   \n",
       "std         0.502571       5.681511       5.682938       2.168978   \n",
       "min         1.000000       0.000000       0.100000       1.000000   \n",
       "25%         1.000000       4.000000       4.500000       2.000000   \n",
       "50%         1.000000       9.000000       9.400000       3.000000   \n",
       "75%         2.000000      14.000000      14.400000       5.000000   \n",
       "max         6.000000      19.000000      19.600000      11.000000   \n",
       "\n",
       "         runs_batter    balls_faced     valid_ball    runs_extras  \\\n",
       "count  278205.000000  278205.000000  278205.000000  278205.000000   \n",
       "mean        1.277378       0.967362       0.963182       0.067971   \n",
       "std         1.651107       0.177687       0.188315       0.343033   \n",
       "min         0.000000       0.000000       0.000000       0.000000   \n",
       "25%         0.000000       1.000000       1.000000       0.000000   \n",
       "50%         1.000000       1.000000       1.000000       0.000000   \n",
       "75%         1.000000       1.000000       1.000000       0.000000   \n",
       "max         6.000000       1.000000       1.000000       7.000000   \n",
       "\n",
       "         runs_total  \n",
       "count  278205.00000  \n",
       "mean        1.34535  \n",
       "std         1.63762  \n",
       "min         0.00000  \n",
       "25%         0.00000  \n",
       "50%         1.00000  \n",
       "75%         1.00000  \n",
       "max         7.00000  "
      ]
     },
     "execution_count": 143,
     "metadata": {},
     "output_type": "execute_result"
    }
   ],
   "source": [
    "df.describe()"
   ]
  },
  {
   "cell_type": "markdown",
   "id": "6caf9b3e-7b3f-481f-b5fa-339954236cfa",
   "metadata": {},
   "source": [
    "### *Data Exploration*"
   ]
  },
  {
   "cell_type": "markdown",
   "id": "91d1cbe4-8d6f-447c-8c97-8f9b5f4299c1",
   "metadata": {},
   "source": [
    "`innings`\n",
    "- Categorical column\n",
    "- Importnant column\n",
    "- most of them are having 1 innings\n",
    "- minumum is 6 innings\n",
    "- Data type is corrrrect so no need for conversion"
   ]
  },
  {
   "cell_type": "code",
   "execution_count": 46,
   "id": "202951ec-c1ca-4d17-8057-8c599166d0d6",
   "metadata": {},
   "outputs": [
    {
     "data": {
      "text/plain": [
       "0         1\n",
       "1         1\n",
       "2         1\n",
       "3         1\n",
       "4         1\n",
       "         ..\n",
       "278200    2\n",
       "278201    2\n",
       "278202    2\n",
       "278203    2\n",
       "278204    2\n",
       "Name: innings, Length: 278205, dtype: int64"
      ]
     },
     "execution_count": 46,
     "metadata": {},
     "output_type": "execute_result"
    }
   ],
   "source": [
    "df['innings']"
   ]
  },
  {
   "cell_type": "code",
   "execution_count": 47,
   "id": "f336396e-d5a1-47f1-89dd-933b07ca0024",
   "metadata": {},
   "outputs": [
    {
     "data": {
      "text/plain": [
       "6"
      ]
     },
     "execution_count": 47,
     "metadata": {},
     "output_type": "execute_result"
    }
   ],
   "source": [
    "df['innings'].nunique()"
   ]
  },
  {
   "cell_type": "code",
   "execution_count": 48,
   "id": "5793e66f-df19-4e2f-b71a-71cbfcec1ca6",
   "metadata": {},
   "outputs": [
    {
     "data": {
      "text/plain": [
       "innings\n",
       "1    144131\n",
       "2    133903\n",
       "3        83\n",
       "4        76\n",
       "5         8\n",
       "6         4\n",
       "Name: count, dtype: int64"
      ]
     },
     "execution_count": 48,
     "metadata": {},
     "output_type": "execute_result"
    }
   ],
   "source": [
    "df['innings'].value_counts()"
   ]
  },
  {
   "cell_type": "code",
   "execution_count": 49,
   "id": "1a16e9aa-8042-446c-a891-393202b1555b",
   "metadata": {},
   "outputs": [
    {
     "data": {
      "text/plain": [
       "dtype('int64')"
      ]
     },
     "execution_count": 49,
     "metadata": {},
     "output_type": "execute_result"
    }
   ],
   "source": [
    "df['innings'].dtype"
   ]
  },
  {
   "cell_type": "markdown",
   "id": "a17cbc70-df77-464b-aedb-b05432d81a0e",
   "metadata": {},
   "source": [
    "`batting_team`\n",
    "- Categorical column\n",
    "- Name of all the team\n",
    "- total 19 teams\n",
    "- Some columns are having same name needs to be merged\n",
    "- Data Type object\n",
    "- No missing values"
   ]
  },
  {
   "cell_type": "code",
   "execution_count": 50,
   "id": "e7e57fa6-b947-4cc6-b717-5eb7796f9ecf",
   "metadata": {},
   "outputs": [
    {
     "data": {
      "text/plain": [
       "0         Kolkata Knight Riders\n",
       "1         Kolkata Knight Riders\n",
       "2         Kolkata Knight Riders\n",
       "3         Kolkata Knight Riders\n",
       "4         Kolkata Knight Riders\n",
       "                  ...          \n",
       "278200             Punjab Kings\n",
       "278201             Punjab Kings\n",
       "278202             Punjab Kings\n",
       "278203             Punjab Kings\n",
       "278204             Punjab Kings\n",
       "Name: batting_team, Length: 278205, dtype: object"
      ]
     },
     "execution_count": 50,
     "metadata": {},
     "output_type": "execute_result"
    }
   ],
   "source": [
    "df['batting_team']"
   ]
  },
  {
   "cell_type": "code",
   "execution_count": 51,
   "id": "e5777bc3-48dc-44e2-b8da-fd91b0e7ab08",
   "metadata": {},
   "outputs": [
    {
     "data": {
      "text/plain": [
       "array(['Kolkata Knight Riders', 'Royal Challengers Bangalore',\n",
       "       'Chennai Super Kings', 'Kings XI Punjab', 'Rajasthan Royals',\n",
       "       'Delhi Daredevils', 'Mumbai Indians', 'Deccan Chargers',\n",
       "       'Kochi Tuskers Kerala', 'Pune Warriors', 'Sunrisers Hyderabad',\n",
       "       'Rising Pune Supergiants', 'Gujarat Lions',\n",
       "       'Rising Pune Supergiant', 'Delhi Capitals', 'Punjab Kings',\n",
       "       'Lucknow Super Giants', 'Gujarat Titans',\n",
       "       'Royal Challengers Bengaluru'], dtype=object)"
      ]
     },
     "execution_count": 51,
     "metadata": {},
     "output_type": "execute_result"
    }
   ],
   "source": [
    "df['batting_team'].unique()"
   ]
  },
  {
   "cell_type": "code",
   "execution_count": 52,
   "id": "32c01808-dd5a-4fca-a5c2-246cdc963c07",
   "metadata": {},
   "outputs": [
    {
     "data": {
      "text/plain": [
       "19"
      ]
     },
     "execution_count": 52,
     "metadata": {},
     "output_type": "execute_result"
    }
   ],
   "source": [
    "df['batting_team'].nunique()"
   ]
  },
  {
   "cell_type": "code",
   "execution_count": 53,
   "id": "338a5dda-7616-453f-822b-f6547ceff535",
   "metadata": {},
   "outputs": [
    {
     "data": {
      "text/plain": [
       "batting_team\n",
       "Mumbai Indians                 33323\n",
       "Kolkata Knight Riders          30895\n",
       "Chennai Super Kings            30395\n",
       "Royal Challengers Bangalore    28205\n",
       "Rajasthan Royals               27922\n",
       "Sunrisers Hyderabad            23442\n",
       "Kings XI Punjab                22646\n",
       "Delhi Daredevils               18786\n",
       "Delhi Capitals                 12615\n",
       "Deccan Chargers                 9034\n",
       "Punjab Kings                    8865\n",
       "Gujarat Titans                  7331\n",
       "Lucknow Super Giants            7144\n",
       "Pune Warriors                   5443\n",
       "Gujarat Lions                   3566\n",
       "Royal Challengers Bengaluru     3531\n",
       "Rising Pune Supergiant          1900\n",
       "Kochi Tuskers Kerala            1582\n",
       "Rising Pune Supergiants         1580\n",
       "Name: count, dtype: int64"
      ]
     },
     "execution_count": 53,
     "metadata": {},
     "output_type": "execute_result"
    }
   ],
   "source": [
    "df['batting_team'].value_counts()"
   ]
  },
  {
   "cell_type": "code",
   "execution_count": 56,
   "id": "bb801759-50c6-44bc-9dd0-8a248cc9c531",
   "metadata": {},
   "outputs": [
    {
     "data": {
      "text/plain": [
       "dtype('O')"
      ]
     },
     "execution_count": 56,
     "metadata": {},
     "output_type": "execute_result"
    }
   ],
   "source": [
    "df['batting_team'].dtype"
   ]
  },
  {
   "cell_type": "code",
   "execution_count": 69,
   "id": "8c332cb3-2c3a-4191-9e50-6f64ee435a12",
   "metadata": {},
   "outputs": [
    {
     "data": {
      "text/plain": [
       "0"
      ]
     },
     "execution_count": 69,
     "metadata": {},
     "output_type": "execute_result"
    }
   ],
   "source": [
    "df['batting_team'].isna().sum()"
   ]
  },
  {
   "cell_type": "markdown",
   "id": "c12a661b-3fd9-4009-8137-4555c48ca46e",
   "metadata": {},
   "source": [
    "`bowling_team`\n",
    "- Categorical column\n",
    "- Name of all the team\n",
    "- total 19 teams\n",
    "- Some columns are having same name needs to be merged\n",
    "- Data Type object\n",
    "- No missing values"
   ]
  },
  {
   "cell_type": "code",
   "execution_count": 57,
   "id": "09e56fde-06f3-49d1-ad76-0d286fbaf6a1",
   "metadata": {},
   "outputs": [
    {
     "data": {
      "text/plain": [
       "0         Royal Challengers Bangalore\n",
       "1         Royal Challengers Bangalore\n",
       "2         Royal Challengers Bangalore\n",
       "3         Royal Challengers Bangalore\n",
       "4         Royal Challengers Bangalore\n",
       "                     ...             \n",
       "278200    Royal Challengers Bengaluru\n",
       "278201    Royal Challengers Bengaluru\n",
       "278202    Royal Challengers Bengaluru\n",
       "278203    Royal Challengers Bengaluru\n",
       "278204    Royal Challengers Bengaluru\n",
       "Name: bowling_team, Length: 278205, dtype: object"
      ]
     },
     "execution_count": 57,
     "metadata": {},
     "output_type": "execute_result"
    }
   ],
   "source": [
    "df['bowling_team']"
   ]
  },
  {
   "cell_type": "code",
   "execution_count": 58,
   "id": "6a5dd3fc-a51b-477b-89fc-54715335069a",
   "metadata": {},
   "outputs": [
    {
     "data": {
      "text/plain": [
       "array(['Royal Challengers Bangalore', 'Kolkata Knight Riders',\n",
       "       'Kings XI Punjab', 'Chennai Super Kings', 'Delhi Daredevils',\n",
       "       'Rajasthan Royals', 'Mumbai Indians', 'Deccan Chargers',\n",
       "       'Kochi Tuskers Kerala', 'Pune Warriors', 'Sunrisers Hyderabad',\n",
       "       'Rising Pune Supergiants', 'Gujarat Lions',\n",
       "       'Rising Pune Supergiant', 'Delhi Capitals', 'Punjab Kings',\n",
       "       'Gujarat Titans', 'Lucknow Super Giants',\n",
       "       'Royal Challengers Bengaluru'], dtype=object)"
      ]
     },
     "execution_count": 58,
     "metadata": {},
     "output_type": "execute_result"
    }
   ],
   "source": [
    "df['bowling_team'].unique()"
   ]
  },
  {
   "cell_type": "code",
   "execution_count": 59,
   "id": "a8edeaa3-630c-451d-8310-8e24432717cd",
   "metadata": {},
   "outputs": [
    {
     "data": {
      "text/plain": [
       "19"
      ]
     },
     "execution_count": 59,
     "metadata": {},
     "output_type": "execute_result"
    }
   ],
   "source": [
    "df['bowling_team'].nunique()"
   ]
  },
  {
   "cell_type": "code",
   "execution_count": 60,
   "id": "ab3d9cd0-09d6-4a25-b9f4-4bd0f6a14e44",
   "metadata": {},
   "outputs": [
    {
     "data": {
      "text/plain": [
       "bowling_team\n",
       "Mumbai Indians                 33427\n",
       "Kolkata Knight Riders          31169\n",
       "Chennai Super Kings            30211\n",
       "Royal Challengers Bangalore    28358\n",
       "Rajasthan Royals               28194\n",
       "Sunrisers Hyderabad            23352\n",
       "Kings XI Punjab                22483\n",
       "Delhi Daredevils               18725\n",
       "Delhi Capitals                 12886\n",
       "Deccan Chargers                 9039\n",
       "Punjab Kings                    8585\n",
       "Gujarat Titans                  7145\n",
       "Lucknow Super Giants            6934\n",
       "Pune Warriors                   5457\n",
       "Gujarat Lions                   3545\n",
       "Royal Challengers Bengaluru     3538\n",
       "Rising Pune Supergiant          1928\n",
       "Rising Pune Supergiants         1615\n",
       "Kochi Tuskers Kerala            1614\n",
       "Name: count, dtype: int64"
      ]
     },
     "execution_count": 60,
     "metadata": {},
     "output_type": "execute_result"
    }
   ],
   "source": [
    "df['bowling_team'].value_counts()"
   ]
  },
  {
   "cell_type": "code",
   "execution_count": 68,
   "id": "addec1a0-e4ac-401d-a948-f5a23fd5f7b7",
   "metadata": {},
   "outputs": [
    {
     "data": {
      "text/plain": [
       "0"
      ]
     },
     "execution_count": 68,
     "metadata": {},
     "output_type": "execute_result"
    }
   ],
   "source": [
    "df['bowling_team'].isna().sum()"
   ]
  },
  {
   "cell_type": "markdown",
   "id": "3a6ba19c-d3f4-4c61-8d36-218d9ccca8b9",
   "metadata": {},
   "source": [
    "`over`\n",
    "- contains over for the match\n",
    "- categorical column\n",
    "- highest is 0 and the count is 14839\n",
    "- Lowest is 19 and the count is 10632\n",
    "- No missing values\n",
    "- Data type is in64 no nned for data correction"
   ]
  },
  {
   "cell_type": "code",
   "execution_count": 144,
   "id": "ae586e04-a4c5-4951-800b-cd9ee0fc34e3",
   "metadata": {},
   "outputs": [
    {
     "data": {
      "text/plain": [
       "0          0\n",
       "1          0\n",
       "2          0\n",
       "3          0\n",
       "4          0\n",
       "          ..\n",
       "278200    19\n",
       "278201    19\n",
       "278202    19\n",
       "278203    19\n",
       "278204    19\n",
       "Name: over, Length: 278205, dtype: int64"
      ]
     },
     "execution_count": 144,
     "metadata": {},
     "output_type": "execute_result"
    }
   ],
   "source": [
    "df['over']"
   ]
  },
  {
   "cell_type": "code",
   "execution_count": 145,
   "id": "6739befa-f901-47da-8a4c-cec981fa9eae",
   "metadata": {},
   "outputs": [
    {
     "data": {
      "text/plain": [
       "array([ 0,  1,  2,  3,  4,  5,  6,  7,  8,  9, 10, 11, 12, 13, 14, 15, 16,\n",
       "       17, 18, 19], dtype=int64)"
      ]
     },
     "execution_count": 145,
     "metadata": {},
     "output_type": "execute_result"
    }
   ],
   "source": [
    "df['over'].unique()"
   ]
  },
  {
   "cell_type": "code",
   "execution_count": 146,
   "id": "ff060fdb-be64-47d2-b122-7dd6beff4dd7",
   "metadata": {},
   "outputs": [
    {
     "data": {
      "text/plain": [
       "20"
      ]
     },
     "execution_count": 146,
     "metadata": {},
     "output_type": "execute_result"
    }
   ],
   "source": [
    "df['over'].nunique()"
   ]
  },
  {
   "cell_type": "code",
   "execution_count": 147,
   "id": "e2437812-9b16-4b32-bfc7-33267637cd52",
   "metadata": {},
   "outputs": [
    {
     "data": {
      "text/plain": [
       "over\n",
       "0     14839\n",
       "1     14682\n",
       "2     14497\n",
       "3     14482\n",
       "4     14469\n",
       "5     14400\n",
       "6     14343\n",
       "7     14328\n",
       "8     14291\n",
       "9     14248\n",
       "10    14171\n",
       "11    14148\n",
       "12    14118\n",
       "13    14002\n",
       "14    13899\n",
       "15    13737\n",
       "16    13507\n",
       "17    13097\n",
       "18    12315\n",
       "19    10632\n",
       "Name: count, dtype: int64"
      ]
     },
     "execution_count": 147,
     "metadata": {},
     "output_type": "execute_result"
    }
   ],
   "source": [
    "df['over'].value_counts()"
   ]
  },
  {
   "cell_type": "code",
   "execution_count": 148,
   "id": "c77012c0-91f2-4368-a6b6-911b79554266",
   "metadata": {},
   "outputs": [
    {
     "data": {
      "text/plain": [
       "0"
      ]
     },
     "execution_count": 148,
     "metadata": {},
     "output_type": "execute_result"
    }
   ],
   "source": [
    "df['over'].isna().sum()"
   ]
  },
  {
   "cell_type": "code",
   "execution_count": 149,
   "id": "c6996819-1686-4b39-81d4-2e189d593c25",
   "metadata": {},
   "outputs": [
    {
     "data": {
      "text/plain": [
       "dtype('int64')"
      ]
     },
     "execution_count": 149,
     "metadata": {},
     "output_type": "execute_result"
    }
   ],
   "source": [
    "df['over'].dtype"
   ]
  },
  {
   "cell_type": "markdown",
   "id": "0f4195be-0a11-485e-9b2e-8f4aa6bcd8fe",
   "metadata": {},
   "source": [
    "`ball_no`\n",
    "- categorical column\n",
    "- total 123 unique categories\n",
    "- highest is 0.1 and the 2517 and the lowest is 11.7 and the count is 1\n",
    "- data type is float\n",
    "- no missing values in the column "
   ]
  },
  {
   "cell_type": "code",
   "execution_count": 150,
   "id": "bb5c2c43-7507-4d6b-9d4b-abbe75b594a1",
   "metadata": {},
   "outputs": [
    {
     "data": {
      "text/plain": [
       "0          0.1\n",
       "1          0.2\n",
       "2          0.3\n",
       "3          0.3\n",
       "4          0.4\n",
       "          ... \n",
       "278200    19.2\n",
       "278201    19.3\n",
       "278202    19.4\n",
       "278203    19.5\n",
       "278204    19.6\n",
       "Name: ball_no, Length: 278205, dtype: float64"
      ]
     },
     "execution_count": 150,
     "metadata": {},
     "output_type": "execute_result"
    }
   ],
   "source": [
    "df['ball_no']"
   ]
  },
  {
   "cell_type": "code",
   "execution_count": 151,
   "id": "befe090a-5b21-41e2-832f-6eff8c89c725",
   "metadata": {},
   "outputs": [
    {
     "data": {
      "text/plain": [
       "array([ 0.1,  0.2,  0.3,  0.4,  0.5,  0.6,  1.1,  1.2,  1.3,  1.4,  1.5,\n",
       "        1.6,  2.1,  2.2,  2.3,  2.4,  2.5,  2.6,  3.1,  3.2,  3.3,  3.4,\n",
       "        3.5,  3.6,  4.1,  4.2,  4.3,  4.4,  4.5,  4.6,  5.1,  5.2,  5.3,\n",
       "        5.4,  5.5,  5.6,  6.1,  6.2,  6.3,  6.4,  6.5,  6.6,  7.1,  7.2,\n",
       "        7.3,  7.4,  7.5,  7.6,  8.1,  8.2,  8.3,  8.4,  8.5,  8.6,  9.1,\n",
       "        9.2,  9.3,  9.4,  9.5,  9.6, 10.1, 10.2, 10.3, 10.4, 10.5, 10.6,\n",
       "       11.1, 11.2, 11.3, 11.4, 11.5, 11.6, 12.1, 12.2, 12.3, 12.4, 12.5,\n",
       "       12.6, 13.1, 13.2, 13.3, 13.4, 13.5, 13.6, 14.1, 14.2, 14.3, 14.4,\n",
       "       14.5, 14.6, 15.1, 15.2, 15.3, 15.4, 15.5, 15.6, 16.1, 16.2, 16.3,\n",
       "       16.4, 16.5, 16.6, 17.1, 17.2, 17.3, 17.4, 17.5, 17.6, 18.1, 18.2,\n",
       "       18.3, 18.4, 18.5, 18.6, 19.1, 19.2, 19.3, 19.4, 19.5, 19.6, 10.7,\n",
       "       18.7, 11.7])"
      ]
     },
     "execution_count": 151,
     "metadata": {},
     "output_type": "execute_result"
    }
   ],
   "source": [
    "df['ball_no'].unique()"
   ]
  },
  {
   "cell_type": "code",
   "execution_count": 152,
   "id": "f3904557-2df4-45d6-86e0-87d4dc073a12",
   "metadata": {},
   "outputs": [
    {
     "data": {
      "text/plain": [
       "123"
      ]
     },
     "execution_count": 152,
     "metadata": {},
     "output_type": "execute_result"
    }
   ],
   "source": [
    "df['ball_no'].nunique()"
   ]
  },
  {
   "cell_type": "code",
   "execution_count": 153,
   "id": "9b674f74-2dfd-4522-8883-58908fb17831",
   "metadata": {},
   "outputs": [
    {
     "data": {
      "text/plain": [
       "ball_no\n",
       "0.1     2517\n",
       "0.2     2505\n",
       "1.1     2495\n",
       "0.3     2469\n",
       "1.2     2457\n",
       "        ... \n",
       "19.5    1687\n",
       "19.6    1604\n",
       "10.7       2\n",
       "18.7       1\n",
       "11.7       1\n",
       "Name: count, Length: 123, dtype: int64"
      ]
     },
     "execution_count": 153,
     "metadata": {},
     "output_type": "execute_result"
    }
   ],
   "source": [
    "df['ball_no'].value_counts()"
   ]
  },
  {
   "cell_type": "code",
   "execution_count": 154,
   "id": "476c7df6-9682-4feb-9a4b-d928e14b09cb",
   "metadata": {},
   "outputs": [
    {
     "data": {
      "text/plain": [
       "0"
      ]
     },
     "execution_count": 154,
     "metadata": {},
     "output_type": "execute_result"
    }
   ],
   "source": [
    "df['ball_no'].isna().sum()"
   ]
  },
  {
   "cell_type": "code",
   "execution_count": 156,
   "id": "fb0b38d7-8c70-4cac-836d-c9de1231ca51",
   "metadata": {},
   "outputs": [
    {
     "data": {
      "text/plain": [
       "dtype('float64')"
      ]
     },
     "execution_count": 156,
     "metadata": {},
     "output_type": "execute_result"
    }
   ],
   "source": [
    "df['ball_no'].dtypes"
   ]
  },
  {
   "cell_type": "markdown",
   "id": "9da5272d-6b6d-48f0-8e30-53903a2ad49a",
   "metadata": {},
   "source": [
    "`batter`\n",
    "- Contains names of all the batsman\n",
    "- Categorical column\n",
    "- Total 703 unique categories\n",
    "- highest is by V Kohli and the count is 6702\n",
    "- Lowest is by Mayank Dagar and the count is 1\n",
    "- the data type is object\n",
    "- No missing values present "
   ]
  },
  {
   "cell_type": "code",
   "execution_count": 157,
   "id": "7d42de4b-f032-4430-ba9c-ac71b9c257a3",
   "metadata": {},
   "outputs": [
    {
     "data": {
      "text/plain": [
       "0             SC Ganguly\n",
       "1            BB McCullum\n",
       "2            BB McCullum\n",
       "3            BB McCullum\n",
       "4            BB McCullum\n",
       "               ...      \n",
       "278200    Shashank Singh\n",
       "278201    Shashank Singh\n",
       "278202    Shashank Singh\n",
       "278203    Shashank Singh\n",
       "278204    Shashank Singh\n",
       "Name: batter, Length: 278205, dtype: object"
      ]
     },
     "execution_count": 157,
     "metadata": {},
     "output_type": "execute_result"
    }
   ],
   "source": [
    "df['batter']"
   ]
  },
  {
   "cell_type": "code",
   "execution_count": 158,
   "id": "1442d8f4-c249-4f42-a038-61e9155d83f5",
   "metadata": {},
   "outputs": [
    {
     "data": {
      "text/plain": [
       "array(['SC Ganguly', 'BB McCullum', 'RT Ponting', 'DJ Hussey',\n",
       "       'Mohammad Hafeez', 'R Dravid', 'W Jaffer', 'V Kohli', 'JH Kallis',\n",
       "       'CL White', 'MV Boucher', 'B Akhil', 'AA Noffke', 'P Kumar',\n",
       "       'Z Khan', 'SB Joshi', 'PA Patel', 'ML Hayden', 'MEK Hussey',\n",
       "       'MS Dhoni', 'SK Raina', 'JDP Oram', 'S Badrinath', 'K Goel',\n",
       "       'JR Hopes', 'KC Sangakkara', 'Yuvraj Singh', 'SM Katich',\n",
       "       'IK Pathan', 'T Kohli', 'YK Pathan', 'SR Watson', 'M Kaif',\n",
       "       'DS Lehmann', 'RA Jadeja', 'M Rawat', 'D Salunkhe', 'SK Warne',\n",
       "       'SK Trivedi', 'G Gambhir', 'V Sehwag', 'S Dhawan', 'L Ronchi',\n",
       "       'ST Jayasuriya', 'DJ Thornely', 'RV Uthappa', 'PR Shah',\n",
       "       'AM Nayar', 'SM Pollock', 'Harbhajan Singh', 'S Chanderpaul',\n",
       "       'LRPL Taylor', 'AC Gilchrist', 'Y Venugopal Rao', 'VVS Laxman',\n",
       "       'A Symonds', 'RG Sharma', 'SB Styris', 'AS Yadav', 'SB Bangar',\n",
       "       'WPUJC Vaas', 'RP Singh', 'WP Saha', 'LR Shukla',\n",
       "       'DPMD Jayawardene', 'S Sohal', 'B Lee', 'PP Chawla', 'WA Mota',\n",
       "       'Kamran Akmal', 'Shahid Afridi', 'DJ Bravo', 'MA Khote', 'A Nehra',\n",
       "       'GC Smith', 'Pankaj Singh', 'RR Sarwan', 'S Sreesanth',\n",
       "       'VRV Singh', 'SS Tiwary', 'DS Kulkarni', 'R Vinay Kumar',\n",
       "       'AB Agarkar', 'M Kartik', 'I Sharma', 'AM Rahane', 'Shoaib Malik',\n",
       "       'MK Tiwary', 'KD Karthik', 'R Bhatia', 'MF Maharoof', 'VY Mahesh',\n",
       "       'TM Srivastava', 'B Chipli', 'DW Steyn', 'DB Das', 'MK Pandey',\n",
       "       'HH Gibbs', 'DNT Zoysa', 'D Kalyankrishna', 'SE Marsh',\n",
       "       'SA Asnodkar', 'Sohail Tanvir', 'Salman Butt', 'BJ Hodge',\n",
       "       'Umar Gul', 'AB Dinda', 'SP Fleming', 'S Vidyut', 'JA Morkel',\n",
       "       'AB de Villiers', 'Misbah-ul-Haq', 'YV Takawale', 'RR Raje',\n",
       "       'PJ Sangwan', 'Mohammad Asif', 'GD McGrath', 'Joginder Sharma',\n",
       "       'MS Gony', 'M Muralitharan', 'M Ntini', 'DT Patil', 'A Kumble',\n",
       "       'S Anirudha', 'MM Patel', 'CK Kapugedera', 'A Chopra', 'T Taibu',\n",
       "       'J Arunkumar', 'DB Ravi Teja', 'PP Ojha', 'U Kaul', 'TM Dilshan',\n",
       "       'A Mishra', 'AD Mascarenhas', 'NK Patel', 'LA Pomersbach',\n",
       "       'Iqbal Abdulla', 'SR Tendulkar', 'PM Sarvesh Kumar',\n",
       "       'DP Vijaykumar', 'Shoaib Akhtar', 'Abdur Razzak', 'LPC Silva',\n",
       "       'H Das', 'SP Goswami', 'DR Smith', 'SD Chitnis', 'CRD Fernando',\n",
       "       'VS Yeligati', 'L Balaji', 'A Mukund', 'Younis Khan', 'RR Powar',\n",
       "       'JP Duminy', 'A Flintoff', 'T Thushara', 'JD Ryder',\n",
       "       'KP Pietersen', 'T Henderson', 'Kamran Khan', 'RS Bopara',\n",
       "       'CH Gayle', 'MC Henriques', 'R Bishnoi', 'FH Edwards', 'KV Sharma',\n",
       "       'PC Valthaty', 'RJ Quiney', 'AS Raut', 'Yashpal Singh', 'M Manhas',\n",
       "       'AA Bilakhia', 'AN Ghosh', 'BAW Mendis', 'DL Vettori',\n",
       "       'MN van Wyk', 'RE van der Merwe', 'TL Suman', 'Shoaib Ahmed',\n",
       "       'GR Napier', 'KP Appanna', 'LA Carseldine', 'NV Ojha',\n",
       "       'SM Harwood', 'M Vijay', 'SB Jakati', 'DA Warner', 'RJ Harris',\n",
       "       'D du Preez', 'M Morkel', 'AD Mathews', 'J Botha', 'C Nanda',\n",
       "       'SL Malinga', 'Mashrafe Mortaza', 'A Singh', 'GJ Bailey',\n",
       "       'AB McDonald', 'Y Nagar', 'SS Shaikh', 'R Ashwin',\n",
       "       'Mohammad Ashraful', 'CA Pujara', 'OA Shah', 'Anirudh Singh',\n",
       "       'Jaskaran Singh', 'AP Tare', 'AT Rayudu', 'R Sathish', 'R McLaren',\n",
       "       'AA Jhunjhunwala', 'P Dogra', 'A Uniyal', 'MS Bisla', 'YA Abdulla',\n",
       "       'EJG Morgan', 'JM Kemp', 'S Tyagi', 'RS Gavaskar', 'SE Bond',\n",
       "       'KA Pollard', 'S Ladda', 'DP Nannes', 'MJ Lumb', 'DR Martyn',\n",
       "       'S Narwal', 'AB Barath', 'Bipul Sharma', 'FY Fazal', 'AC Voges',\n",
       "       'MD Mishra', 'UT Yadav', 'J Theron', 'SJ Srivastava', 'KM Jadhav',\n",
       "       'R Sharma', 'Mandeep Singh', 'SW Tait', 'KB Arun Karthik',\n",
       "       'KAJ Roach', 'PD Collingwood', 'CK Langeveldt', 'VS Malik',\n",
       "       'A Mithun', 'AP Dole', 'AN Ahmed', 'RS Sodhi', 'DE Bollinger',\n",
       "       'S Sriram', 'B Sumanth', 'C Madan', 'AG Paunikar', 'MR Marsh',\n",
       "       'AJ Finch', 'STR Binny', 'Harmeet Singh', 'IR Jaggi',\n",
       "       'DT Christian', 'RV Gomez', 'MA Agarwal', 'AUK Pathan',\n",
       "       'UBT Chand', 'DJ Jacobs', 'Sunny Singh', 'NJ Rimmington',\n",
       "       'AL Menaria', 'WD Parnell', 'JJ van der Wath', 'R Ninan',\n",
       "       'S Aravind', 'MS Wade', 'TD Paine', 'SB Wagh', 'AC Thomas',\n",
       "       'JEC Franklin', 'Shakib Al Hasan', 'DH Yagnik', 'S Randiv',\n",
       "       'BJ Haddin', 'NLTC Perera', 'NL McCullum', 'JE Taylor',\n",
       "       'J Syed Mohammad', 'RN ten Doeschate', 'TR Birt', 'AG Murtaza',\n",
       "       'Harpreet Singh', 'M Klinger', 'AC Blizzard', 'I Malhotra',\n",
       "       'L Ablish', 'CA Ingram', 'S Nadeem', 'P Parameswaran',\n",
       "       'CJ Ferguson', 'VR Aaron', 'AA Chavan', 'ND Doshi', 'B Kumar',\n",
       "       'Y Gnaneswara Rao', 'S Rana', 'BA Bhatt', 'F du Plessis',\n",
       "       'RE Levi', 'GJ Maxwell', 'SPD Smith', 'MN Samuels', 'SA Yadav',\n",
       "       'KK Cooper', 'JP Faulkner', 'HV Patel', 'DAJ Bracewell',\n",
       "       'DJ Harris', 'Ankit Sharma', 'SP Narine', 'GB Hogg', 'RR Bhatkal',\n",
       "       'CJ McKay', 'N Saini', 'DA Miller', 'Azhar Mahmood', 'P Negi',\n",
       "       'RJ Peterson', 'KMDN Kulasekara', 'A Ashish Reddy',\n",
       "       'V Pratap Singh', 'BB Samantray', 'MJ Clarke', 'Gurkeerat Singh',\n",
       "       'AP Majumdar', 'PA Reddy', 'K Upadhyay', 'P Awana', 'AD Russell',\n",
       "       'A Chandila', 'CA Lynn', 'Sunny Gupta', 'MC Juneja', 'KK Nair',\n",
       "       'GH Vihari', 'MDKJ Perera', 'R Shukla', 'B Laughlin', 'AS Rajpoot',\n",
       "       'M Vohra', 'JD Unadkat', 'Mohammed Shami', 'BMAJ Mendis',\n",
       "       'R Rampaul', 'CH Morris', 'SV Samson', 'SMSM Senanayake',\n",
       "       'BJ Rohrer', 'KL Rahul', 'Q de Kock', 'R Dhawan', 'MG Johnson',\n",
       "       'LJ Wright', 'IC Pandey', 'X Thalaivan Sargunam', 'DJG Sammy',\n",
       "       'KW Richardson', 'MM Sharma', 'CM Gautam', 'UA Birla',\n",
       "       'Parvez Rasool', 'Sandeep Sharma', 'S Kaul', 'Sachin Baby',\n",
       "       'PV Tambe', 'NM Coulter-Nile', 'CJ Anderson', 'NJ Maddinson',\n",
       "       'AR Patel', 'JJ Bumrah', 'JDS Neesham', 'TG Southee', 'MA Starc',\n",
       "       'BR Dunk', 'RR Rossouw', 'Shivam Sharma', 'YS Chahal',\n",
       "       'LMP Simmons', 'VH Zol', 'BCJ Cutting', 'Imran Tahir',\n",
       "       'BE Hendricks', 'S Gopal', 'M de Lange', 'R Tewatia', 'JO Holder',\n",
       "       'Karanveer Singh', 'SS Iyer', 'DJ Hooda', 'Anureet Singh',\n",
       "       'KS Williamson', 'SA Abbott', 'J Suchith', 'HH Pandya', 'D Wiese',\n",
       "       'SN Khan', 'MJ McClenaghan', 'DJ Muthuswami', 'PJ Cummins',\n",
       "       'RG More', 'SN Thakur', 'JC Buttler', 'CR Brathwaite',\n",
       "       'MP Stoinis', 'Ishan Kishan', 'C Munro', 'P Sahu', 'KH Pandya',\n",
       "       'AD Nath', 'MJ Guptill', 'KJ Abbott', 'TM Head', 'M Ashwin',\n",
       "       'NS Naik', 'RR Pant', 'SW Billings', 'KC Cariappa',\n",
       "       'PSP Handscomb', 'Swapnil Singh', 'J Yadav', 'UT Khawaja',\n",
       "       'HM Amla', 'F Behardien', 'BB Sran', 'A Zampa', 'N Rana',\n",
       "       'S Kaushik', 'ER Dwivedi', 'CJ Jordan', 'TS Mills', 'A Choudhary',\n",
       "       'BA Stokes', 'JJ Roy', 'Vishnu Vinod', 'Basil Thampi', 'CR Woakes',\n",
       "       'RA Tripathi', 'DL Chahar', 'V Shankar', 'Rashid Khan',\n",
       "       'RD Chahar', 'LH Ferguson', 'C de Grandhomme', 'AF Milne',\n",
       "       'S Badree', 'Mohammad Nabi', 'AJ Tye', 'K Rabada', 'Kuldeep Yadav',\n",
       "       'Washington Sundar', 'DM Bravo', 'AR Bawne', 'SP Jackson',\n",
       "       'Ankit Soni', 'TA Boult', 'E Lewis', 'MA Wood', 'RK Singh',\n",
       "       'DJM Short', 'K Gowtham', 'TK Curran', 'M Markande', 'B Stanlake',\n",
       "       'Mujeeb Ur Rahman', 'A Dananjaya', 'Shubman Gill', 'Shivam Mavi',\n",
       "       'Mohammed Siraj', 'H Klaasen', 'RK Bhui', 'JC Archer', 'PP Shaw',\n",
       "       'LE Plunkett', 'Mustafizur Rahman', 'AD Hales', 'MK Lomror',\n",
       "       'DR Shorey', 'MM Ali', 'M Prasidh Krishna', 'P Chopra',\n",
       "       'JPR Scantlebury-Searles', 'Abhishek Sharma', 'IS Sodhi',\n",
       "       'SO Hetmyer', 'S Dube', 'Navdeep Saini', 'JM Bairstow', 'KMA Paul',\n",
       "       'Rasikh Salam', 'N Pooran', 'P Ray Barman', 'SM Curran',\n",
       "       'GC Viljoen', 'Avesh Khan', 'S Lamichhane', 'HF Gurney', 'SD Lad',\n",
       "       'AS Joseph', 'R Parag', 'MJ Santner', 'JL Denly', 'LS Livingstone',\n",
       "       'KK Ahmed', 'AJ Turner', 'Harpreet Brar', 'SE Rutherford',\n",
       "       'Y Prithvi Raj', 'P Simran Singh', 'JL Pattinson', 'A Nortje',\n",
       "       'D Padikkal', 'JR Philippe', 'PK Garg', 'T Natarajan',\n",
       "       'YBK Jaiswal', 'RD Gaikwad', 'Abdul Samad', 'KL Nagarkoti',\n",
       "       'Ravi Bishnoi', 'I Udana', 'CV Varun', 'SS Cottrell',\n",
       "       'Arshdeep Singh', 'Kartik Tyagi', 'N Jagadeesan', 'AT Carey',\n",
       "       'T Banton', 'TU Deshpande', 'P Dubey', 'Shahbaz Ahmed', 'DR Sams',\n",
       "       'M Jansen', 'RM Patidar', 'KA Jamieson', 'M Shahrukh Khan',\n",
       "       'JA Richardson', 'Lalit Yadav', 'Virat Singh', 'FA Allen',\n",
       "       'C Sakariya', 'DJ Malan', 'Anmolpreet Singh', 'KS Bharat',\n",
       "       'PWH de Silva', 'VR Iyer', 'AK Markram', 'TH David', 'T Shamsi',\n",
       "       'NT Ellis', 'TL Seifert', 'GD Phillips', 'GHS Garton', 'RV Patel',\n",
       "       'K Yadav', 'Anuj Rawat', 'DP Conway', 'Tilak Varma', 'R Powell',\n",
       "       'PBB Rajapaksa', 'RA Bawa', 'OF Smith', 'A Badoni', 'PVD Chameera',\n",
       "       'A Manohar', 'R Shepherd', 'DJ Willey', 'D Pretorius', 'JM Sharma',\n",
       "       'VG Arora', 'Mukesh Choudhary', 'Umran Malik', 'D Brevis',\n",
       "       'B Sai Sudharsan', 'Ramandeep Singh', 'HE van der Dussen',\n",
       "       'SS Prabhudessai', 'Akash Deep', 'JR Hazlewood', 'KR Sen',\n",
       "       'Aman Hakim Khan', 'HR Shokeen', 'Yash Dayal', 'DJ Mitchell',\n",
       "       'Shashank Singh', 'B Indrajith', 'Harshit Rana', 'Mohsin Khan',\n",
       "       'Simarjeet Singh', 'M Theekshana', 'AS Roy', 'Fazalhaq Farooqi',\n",
       "       'K Kartikeya', 'RP Meredith', 'KS Sharma', 'T Stubbs',\n",
       "       'R Sanjay Yadav', 'A Tomar', 'PN Mankad', 'OC McCoy',\n",
       "       'Sikandar Raza', 'Rahmanullah Gurbaz', 'KR Mayers', 'Mukesh Kumar',\n",
       "       'HC Brook', 'AU Rashid', 'C Green', 'N Wadhera', 'Arshad Khan',\n",
       "       'Abishek Porel', 'Dhruv Jurel', 'MG Bracewell', 'MW Short',\n",
       "       'Mohit Rathee', 'YV Dhull', 'Yudhvir Singh', 'Atharva Taide',\n",
       "       'Liton Das', 'PD Salt', 'Vijaykumar Vyshak', 'Abdul Basith',\n",
       "       'Arjun Tendulkar', 'JP Behrendorff', 'AJ Hosein', 'Naveen-ul-Haq',\n",
       "       'Noor Ahmad', 'JE Root', 'KM Asif', 'MD Shanaka', 'Sanvir Singh',\n",
       "       'Vivrant Sharma', 'DG Nalkande', 'R Ravindra', 'SD Hope',\n",
       "       'Sumit Kumar', 'Azmatullah Omarzai', 'Naman Dhir', 'G Coetzee',\n",
       "       'SZ Mulani', 'Sameer Rizvi', 'SH Johnson', 'Akash Madhwal',\n",
       "       'SB Dubey', 'Mayank Dagar', 'RJW Topley', 'A Raghuvanshi',\n",
       "       'Ashutosh Sharma', 'Nithish Kumar Reddy', 'Saurav Chauhan',\n",
       "       'Kumar Kushagra', 'BR Sharath', 'WG Jacks', 'J Fraser-McGurk',\n",
       "       'Tanush Kotian', 'KA Maharaj', 'Arshad Khan (2)', 'R Sai Kishore',\n",
       "       'L Wood', 'LB Williams', 'AA Kulkarni', 'MJ Suthar', 'RJ Gleeson',\n",
       "       'Gulbadin Naib', 'D Ferreira', 'A Kamboj', 'T Kohler-Cadmore',\n",
       "       'Shivam Singh', 'V Viyaskanth', 'Aniket Verma', 'RD Rickelton',\n",
       "       'R Minz', 'PVSN Raju', 'V Nigam', 'Priyansh Arya', 'PWA Mulder',\n",
       "       'J Overton', 'PHKD Mendis', 'Suryansh Shedge', 'SK Rasheed',\n",
       "       'JP Inglis', 'XC Bartlett', 'MS Bhandage', 'V Suryavanshi',\n",
       "       'A Mhatre', 'C Bosch', 'Prince Yadav', 'DS Rathi', 'JG Bethell',\n",
       "       'KS Rathore', 'Urvil Patel', 'MJ Owen', 'KT Maphaka', 'M Tiwari',\n",
       "       'L Ngidi', 'Sediqullah Atal', 'MP Breetzke', 'Musheer Khan',\n",
       "       'BKG Mendis'], dtype=object)"
      ]
     },
     "execution_count": 158,
     "metadata": {},
     "output_type": "execute_result"
    }
   ],
   "source": [
    "df['batter'].unique()"
   ]
  },
  {
   "cell_type": "code",
   "execution_count": 159,
   "id": "afd11f82-5003-461f-8408-d5529ac55d1c",
   "metadata": {},
   "outputs": [
    {
     "data": {
      "text/plain": [
       "703"
      ]
     },
     "execution_count": 159,
     "metadata": {},
     "output_type": "execute_result"
    }
   ],
   "source": [
    "df['batter'].nunique()"
   ]
  },
  {
   "cell_type": "code",
   "execution_count": 160,
   "id": "20088ac6-f89f-45b3-921c-9a61e4243395",
   "metadata": {},
   "outputs": [
    {
     "data": {
      "text/plain": [
       "batter\n",
       "V Kohli         6702\n",
       "S Dhawan        5483\n",
       "RG Sharma       5475\n",
       "DA Warner       4849\n",
       "SK Raina        4177\n",
       "                ... \n",
       "YA Abdulla         1\n",
       "S Kaushik          1\n",
       "PVSN Raju          1\n",
       "S Lamichhane       1\n",
       "Mayank Dagar       1\n",
       "Name: count, Length: 703, dtype: int64"
      ]
     },
     "execution_count": 160,
     "metadata": {},
     "output_type": "execute_result"
    }
   ],
   "source": [
    "df['batter'].value_counts()"
   ]
  },
  {
   "cell_type": "code",
   "execution_count": 162,
   "id": "6c0cf77a-521b-4f5f-9fe7-ed7b6858238e",
   "metadata": {},
   "outputs": [
    {
     "data": {
      "text/plain": [
       "dtype('O')"
      ]
     },
     "execution_count": 162,
     "metadata": {},
     "output_type": "execute_result"
    }
   ],
   "source": [
    "df['batter'].dtypes"
   ]
  },
  {
   "cell_type": "markdown",
   "id": "6f32ed93-e4a2-4afd-a4ba-d108f769b83a",
   "metadata": {},
   "source": [
    "`bat_pos`\n",
    "- where in the batting order a player came out to bat in that innings.\n",
    "- Total 11 unique value in the column \n",
    "- highest is 2 and the count is 52587\n",
    "- Lowest is 11 and the count is 995\n",
    "- The data type is int 64 \n",
    "- There is no missing values in the column "
   ]
  },
  {
   "cell_type": "code",
   "execution_count": 163,
   "id": "c3a7ed8f-3e62-4c1e-b547-753205591087",
   "metadata": {},
   "outputs": [
    {
     "data": {
      "text/plain": [
       "0         1\n",
       "1         2\n",
       "2         2\n",
       "3         2\n",
       "4         2\n",
       "         ..\n",
       "278200    6\n",
       "278201    6\n",
       "278202    6\n",
       "278203    6\n",
       "278204    6\n",
       "Name: bat_pos, Length: 278205, dtype: int64"
      ]
     },
     "execution_count": 163,
     "metadata": {},
     "output_type": "execute_result"
    }
   ],
   "source": [
    "df['bat_pos']"
   ]
  },
  {
   "cell_type": "code",
   "execution_count": 164,
   "id": "4bf44caf-556a-4d11-b293-d11b8a9e1457",
   "metadata": {},
   "outputs": [
    {
     "data": {
      "text/plain": [
       "array([ 1,  2,  3,  4,  5,  6,  7,  8,  9, 10, 11], dtype=int64)"
      ]
     },
     "execution_count": 164,
     "metadata": {},
     "output_type": "execute_result"
    }
   ],
   "source": [
    "df['bat_pos'].unique()"
   ]
  },
  {
   "cell_type": "code",
   "execution_count": 165,
   "id": "5f053f26-01a1-47da-b8e3-4ef9d5ba125c",
   "metadata": {},
   "outputs": [
    {
     "data": {
      "text/plain": [
       "11"
      ]
     },
     "execution_count": 165,
     "metadata": {},
     "output_type": "execute_result"
    }
   ],
   "source": [
    "df['bat_pos'].nunique()"
   ]
  },
  {
   "cell_type": "code",
   "execution_count": 166,
   "id": "8d940008-20c8-43d2-a966-20574ec7faa2",
   "metadata": {},
   "outputs": [
    {
     "data": {
      "text/plain": [
       "bat_pos\n",
       "2     52587\n",
       "1     51389\n",
       "3     46644\n",
       "4     41352\n",
       "5     33060\n",
       "6     22552\n",
       "7     14619\n",
       "8      8188\n",
       "9      4456\n",
       "10     2363\n",
       "11      995\n",
       "Name: count, dtype: int64"
      ]
     },
     "execution_count": 166,
     "metadata": {},
     "output_type": "execute_result"
    }
   ],
   "source": [
    "df['bat_pos'].value_counts()"
   ]
  },
  {
   "cell_type": "code",
   "execution_count": 167,
   "id": "eb936e0b-71e9-48e3-a96c-03d9f6c92478",
   "metadata": {},
   "outputs": [
    {
     "data": {
      "text/plain": [
       "0"
      ]
     },
     "execution_count": 167,
     "metadata": {},
     "output_type": "execute_result"
    }
   ],
   "source": [
    "df['bat_pos'].isna().sum()"
   ]
  },
  {
   "cell_type": "code",
   "execution_count": 169,
   "id": "e328ce0c-30bc-481d-af57-3d4e4cacc3f1",
   "metadata": {},
   "outputs": [
    {
     "data": {
      "text/plain": [
       "dtype('int64')"
      ]
     },
     "execution_count": 169,
     "metadata": {},
     "output_type": "execute_result"
    }
   ],
   "source": [
    "df['bat_pos'].dtype"
   ]
  },
  {
   "cell_type": "markdown",
   "id": "0da46191-19c7-427c-9b9a-63b0b7c2add2",
   "metadata": {},
   "source": [
    "`runs_batter`\n",
    "- Categorical column\n",
    "- total 7 unique values\n",
    "- highest is 0 and the count for that is 110250\n",
    "- Lowest is5 and the count is 67\n",
    "- No missing value in the column\n",
    "- data type is int 64"
   ]
  },
  {
   "cell_type": "code",
   "execution_count": 170,
   "id": "21380042-0090-4a70-8020-f2b0af1f30aa",
   "metadata": {},
   "outputs": [
    {
     "data": {
      "text/plain": [
       "0         0\n",
       "1         0\n",
       "2         0\n",
       "3         0\n",
       "4         0\n",
       "         ..\n",
       "278200    0\n",
       "278201    6\n",
       "278202    4\n",
       "278203    6\n",
       "278204    6\n",
       "Name: runs_batter, Length: 278205, dtype: int64"
      ]
     },
     "execution_count": 170,
     "metadata": {},
     "output_type": "execute_result"
    }
   ],
   "source": [
    "df['runs_batter']"
   ]
  },
  {
   "cell_type": "code",
   "execution_count": 171,
   "id": "51313478-4f24-420f-8324-d53b7dc9f997",
   "metadata": {},
   "outputs": [
    {
     "data": {
      "text/plain": [
       "array([0, 4, 6, 1, 2, 5, 3], dtype=int64)"
      ]
     },
     "execution_count": 171,
     "metadata": {},
     "output_type": "execute_result"
    }
   ],
   "source": [
    "df['runs_batter'].unique()"
   ]
  },
  {
   "cell_type": "code",
   "execution_count": 172,
   "id": "2d119067-06ad-4f4b-8ef7-97cd1f1d2813",
   "metadata": {},
   "outputs": [
    {
     "data": {
      "text/plain": [
       "7"
      ]
     },
     "execution_count": 172,
     "metadata": {},
     "output_type": "execute_result"
    }
   ],
   "source": [
    "df['runs_batter'].nunique()"
   ]
  },
  {
   "cell_type": "code",
   "execution_count": 173,
   "id": "812ad2f6-1ae0-4dec-bb7c-c458b38daa6b",
   "metadata": {},
   "outputs": [
    {
     "data": {
      "text/plain": [
       "runs_batter\n",
       "0    110250\n",
       "1    103187\n",
       "4     32113\n",
       "2     17424\n",
       "6     14353\n",
       "3       811\n",
       "5        67\n",
       "Name: count, dtype: int64"
      ]
     },
     "execution_count": 173,
     "metadata": {},
     "output_type": "execute_result"
    }
   ],
   "source": [
    "df['runs_batter'].value_counts()"
   ]
  },
  {
   "cell_type": "code",
   "execution_count": 174,
   "id": "561a4153-2047-41a9-ad27-05b8fb1c405f",
   "metadata": {},
   "outputs": [
    {
     "data": {
      "text/plain": [
       "0"
      ]
     },
     "execution_count": 174,
     "metadata": {},
     "output_type": "execute_result"
    }
   ],
   "source": [
    "df['runs_batter'].isna().sum()"
   ]
  },
  {
   "cell_type": "code",
   "execution_count": 175,
   "id": "1e976108-1b08-4436-bbdf-c7a768b4a815",
   "metadata": {},
   "outputs": [
    {
     "data": {
      "text/plain": [
       "dtype('int64')"
      ]
     },
     "execution_count": 175,
     "metadata": {},
     "output_type": "execute_result"
    }
   ],
   "source": [
    "df['runs_batter'].dtype"
   ]
  },
  {
   "cell_type": "markdown",
   "id": "b182a265-2903-43e0-915f-2a7b79e4bfd9",
   "metadata": {},
   "source": [
    "`balls_faced`\n",
    "- The count of legal deliveries faced by the batter for that record.\n",
    "- binar column is 0 and 1\n",
    "- can be converted to yes and no\n",
    "- maximum is - 1 and count is 269125\n",
    "- minimum is - 0 and count is 9080\n",
    "- data type is int 64"
   ]
  },
  {
   "cell_type": "code",
   "execution_count": 109,
   "id": "508ff87a-ceb6-41b6-9e63-600da7483261",
   "metadata": {},
   "outputs": [
    {
     "data": {
      "text/plain": [
       "0         1\n",
       "1         1\n",
       "2         0\n",
       "3         1\n",
       "4         1\n",
       "         ..\n",
       "278200    1\n",
       "278201    1\n",
       "278202    1\n",
       "278203    1\n",
       "278204    1\n",
       "Name: balls_faced, Length: 278205, dtype: int64"
      ]
     },
     "execution_count": 109,
     "metadata": {},
     "output_type": "execute_result"
    }
   ],
   "source": [
    "df['balls_faced']"
   ]
  },
  {
   "cell_type": "code",
   "execution_count": 110,
   "id": "3dcecf3e-ca1e-4d17-93ba-30e0597521ea",
   "metadata": {},
   "outputs": [
    {
     "data": {
      "text/plain": [
       "array([1, 0], dtype=int64)"
      ]
     },
     "execution_count": 110,
     "metadata": {},
     "output_type": "execute_result"
    }
   ],
   "source": [
    "df['balls_faced'].unique()"
   ]
  },
  {
   "cell_type": "code",
   "execution_count": 111,
   "id": "06b574f9-6a95-48c4-a7cb-0acb4641e02b",
   "metadata": {},
   "outputs": [
    {
     "data": {
      "text/plain": [
       "2"
      ]
     },
     "execution_count": 111,
     "metadata": {},
     "output_type": "execute_result"
    }
   ],
   "source": [
    "df['balls_faced'].nunique()"
   ]
  },
  {
   "cell_type": "code",
   "execution_count": 112,
   "id": "e2c3cab5-2b8c-42d0-b60f-39b639ae5efa",
   "metadata": {},
   "outputs": [
    {
     "data": {
      "text/plain": [
       "balls_faced\n",
       "1    269125\n",
       "0      9080\n",
       "Name: count, dtype: int64"
      ]
     },
     "execution_count": 112,
     "metadata": {},
     "output_type": "execute_result"
    }
   ],
   "source": [
    "df['balls_faced'].value_counts()"
   ]
  },
  {
   "cell_type": "code",
   "execution_count": 113,
   "id": "3241e6ad-1af8-4f90-8510-eec0965f0f81",
   "metadata": {},
   "outputs": [
    {
     "data": {
      "text/plain": [
       "dtype('int64')"
      ]
     },
     "execution_count": 113,
     "metadata": {},
     "output_type": "execute_result"
    }
   ],
   "source": [
    "df['balls_faced'].dtypes"
   ]
  },
  {
   "cell_type": "markdown",
   "id": "41879a48-3b76-42a8-9e7b-e4da37175848",
   "metadata": {},
   "source": [
    "`bowler`\n",
    "- name of all the bowlers\n",
    "- total 550 unique bowlers\n",
    "- highest is by R Ashwin and count is 4868\n",
    "- lowest is by many but for instance i will take YBK Jaiswal and the count is 1\n",
    "- no missing values\n",
    "- data type is object"
   ]
  },
  {
   "cell_type": "code",
   "execution_count": 114,
   "id": "2b366530-bbf2-47cf-bcda-87db3d94f4b3",
   "metadata": {},
   "outputs": [
    {
     "data": {
      "text/plain": [
       "0              P Kumar\n",
       "1              P Kumar\n",
       "2              P Kumar\n",
       "3              P Kumar\n",
       "4              P Kumar\n",
       "              ...     \n",
       "278200    JR Hazlewood\n",
       "278201    JR Hazlewood\n",
       "278202    JR Hazlewood\n",
       "278203    JR Hazlewood\n",
       "278204    JR Hazlewood\n",
       "Name: bowler, Length: 278205, dtype: object"
      ]
     },
     "execution_count": 114,
     "metadata": {},
     "output_type": "execute_result"
    }
   ],
   "source": [
    "df['bowler']"
   ]
  },
  {
   "cell_type": "code",
   "execution_count": 115,
   "id": "1e8d5c25-7de1-4678-b635-91a6177d7297",
   "metadata": {},
   "outputs": [
    {
     "data": {
      "text/plain": [
       "550"
      ]
     },
     "execution_count": 115,
     "metadata": {},
     "output_type": "execute_result"
    }
   ],
   "source": [
    "df['bowler'].nunique()"
   ]
  },
  {
   "cell_type": "code",
   "execution_count": 116,
   "id": "cce0e779-b103-4554-a47f-18da76d1b6bf",
   "metadata": {},
   "outputs": [
    {
     "data": {
      "text/plain": [
       "array(['P Kumar', 'Z Khan', 'AA Noffke', 'JH Kallis', 'SB Joshi',\n",
       "       'CL White', 'AB Dinda', 'I Sharma', 'AB Agarkar', 'SC Ganguly',\n",
       "       'LR Shukla', 'B Lee', 'S Sreesanth', 'JR Hopes', 'IK Pathan',\n",
       "       'K Goel', 'PP Chawla', 'WA Mota', 'JDP Oram', 'MS Gony',\n",
       "       'M Muralitharan', 'P Amarnath', 'Joginder Sharma', 'GD McGrath',\n",
       "       'B Geeves', 'MF Maharoof', 'R Bhatia', 'DL Vettori', 'MM Patel',\n",
       "       'SR Watson', 'SK Trivedi', 'SK Warne', 'YK Pathan', 'D Salunkhe',\n",
       "       'R Vinay Kumar', 'B Akhil', 'A Nehra', 'SM Pollock', 'DS Kulkarni',\n",
       "       'ST Jayasuriya', 'Harbhajan Singh', 'AM Nayar', 'M Kartik',\n",
       "       'Mohammad Hafeez', 'DJ Hussey', 'WPUJC Vaas', 'RP Singh',\n",
       "       'SB Styris', 'SB Bangar', 'A Symonds', 'PP Ojha', 'Pankaj Singh',\n",
       "       'Mohammad Asif', 'VY Mahesh', 'Shahid Afridi', 'DJ Bravo',\n",
       "       'VS Yeligati', 'MA Khote', 'D Kalyankrishna', 'VRV Singh',\n",
       "       'Sohail Tanvir', 'A Kumble', 'DNT Zoysa', 'SD Chitnis',\n",
       "       'Yuvraj Singh', 'Shoaib Malik', 'DW Steyn', 'JA Morkel',\n",
       "       'CRD Fernando', 'V Kohli', 'V Sehwag', 'Gagandeep Singh',\n",
       "       'Y Venugopal Rao', 'Umar Gul', 'PJ Sangwan', 'M Ntini',\n",
       "       'DP Vijaykumar', 'DJ Thornely', 'RR Raje', 'SK Raina', 'S Vidyut',\n",
       "       'L Balaji', 'CK Kapugedera', 'AD Mascarenhas', 'A Mishra',\n",
       "       'Shoaib Akhtar', 'Iqbal Abdulla', 'PM Sarvesh Kumar', 'RR Powar',\n",
       "       'Abdur Razzak', 'RA Jadeja', 'TM Dilshan', 'DR Smith', 'RG Sharma',\n",
       "       'A Nel', 'DB Ravi Teja', 'LPC Silva', 'BAW Mendis', 'T Thushara',\n",
       "       'A Flintoff', 'SL Malinga', 'Kamran Khan', 'T Henderson',\n",
       "       'JD Ryder', 'DP Nannes', 'AM Salvi', 'YA Abdulla', 'VS Malik',\n",
       "       'FH Edwards', 'Harmeet Singh', 'CH Gayle', 'MC Henriques',\n",
       "       'KP Pietersen', 'LRPL Taylor', 'RS Bopara', 'MK Tiwary',\n",
       "       'Anureet Singh', 'RR Bose', 'KP Appanna', 'Shoaib Ahmed',\n",
       "       'BJ Hodge', 'SR Tendulkar', 'RE van der Merwe', 'JP Duminy',\n",
       "       'S Tyagi', 'GR Napier', 'SM Harwood', 'AS Raut', 'SB Jakati',\n",
       "       'D du Preez', 'RJ Harris', 'TL Suman', 'A Singh', 'M Morkel',\n",
       "       'LA Carseldine', 'A Mithun', 'C Nanda', 'SS Sarkar', 'AD Mathews',\n",
       "       'AM Rahane', 'J Botha', 'Mashrafe Mortaza', 'AB McDonald',\n",
       "       'Y Nagar', 'CK Langeveldt', 'R Ashwin', 'RA Shaikh',\n",
       "       'Jaskaran Singh', 'SW Tait', 'A Uniyal', 'AA Jhunjhunwala',\n",
       "       'R McLaren', 'AG Murtaza', 'R Sathish', 'RS Gavaskar', 'JM Kemp',\n",
       "       'S Ladda', 'Bipul Sharma', 'SE Bond', 'KA Pollard', 'S Narwal',\n",
       "       'UT Yadav', 'SJ Srivastava', 'AC Voges', 'R Sharma', 'J Theron',\n",
       "       'NLTC Perera', 'KAJ Roach', 'PD Collingwood', 'C Ganapathy',\n",
       "       'MB Parmar', 'SB Wagh', 'DE Bollinger', 'JD Unadkat', 'AP Dole',\n",
       "       'AN Ahmed', 'FY Fazal', 'MR Marsh', 'L Ablish', 'S Sriram',\n",
       "       'AJ Finch', 'STR Binny', 'ND Doshi', 'TG Southee', 'S Randiv',\n",
       "       'AL Menaria', 'DT Christian', 'AUK Pathan', 'RV Gomez',\n",
       "       'JEC Franklin', 'AC Thomas', 'WD Parnell', 'M Manhas',\n",
       "       'NJ Rimmington', 'RN ten Doeschate', 'S Nadeem', 'BA Bhatt',\n",
       "       'JJ van der Wath', 'S Aravind', 'R Ninan', 'Shakib Al Hasan',\n",
       "       'PC Valthaty', 'S Dhawan', 'J Syed Mohammad', 'VR Aaron',\n",
       "       'NL McCullum', 'JE Taylor', 'KMDN Kulasekara', 'P Parameswaran',\n",
       "       'I Malhotra', 'B Chipli', 'B Kumar', 'AA Kazi', 'Anand Rajan',\n",
       "       'P Prasanth', 'Y Gnaneswara Rao', 'AA Chavan', 'S Rana',\n",
       "       'JP Faulkner', 'SS Mundhe', 'RW Price', 'GJ Maxwell', 'M de Lange',\n",
       "       'MN Samuels', 'KK Cooper', 'DAJ Bracewell', 'HV Patel',\n",
       "       'Ankit Sharma', 'DJ Harris', 'TP Sudhindra', 'F du Plessis',\n",
       "       'SP Narine', 'GB Hogg', 'RR Bhatkal', 'P Awana', 'CJ McKay',\n",
       "       'V Pratap Singh', 'Azhar Mahmood', 'A Chandila', 'P Negi',\n",
       "       'LJ Wright', 'RJ Peterson', 'A Ashish Reddy', 'R Shukla',\n",
       "       'MJ Clarke', 'BW Hilfenhaus', 'SPD Smith', 'AD Russell',\n",
       "       'K Upadhyay', 'Sunny Gupta', 'MG Johnson', 'JJ Bumrah', 'S Badree',\n",
       "       'AS Rajpoot', 'B Laughlin', 'GH Vihari', 'Mohammed Shami',\n",
       "       'BMAJ Mendis', 'CH Morris', 'S Kaul', 'R Dhawan', 'MM Sharma',\n",
       "       'R Rampaul', 'KV Sharma', 'SMSM Senanayake', 'JO Holder',\n",
       "       'IC Pandey', 'YS Chahal', 'DJG Sammy', 'KW Richardson', 'P Suyal',\n",
       "       'MG Neser', 'PV Tambe', 'BJ Rohrer', 'Parvez Rasool',\n",
       "       'Sandeep Sharma', 'NM Coulter-Nile', 'AC Gilchrist', 'CJ Anderson',\n",
       "       'MA Starc', 'JDS Neesham', 'AR Patel', 'M Vijay', 'R Tewatia',\n",
       "       'SA Yadav', 'Shivam Sharma', 'Imran Tahir', 'V Shankar',\n",
       "       'LMP Simmons', 'BCJ Cutting', 'K Santokie', 'S Gopal',\n",
       "       'BE Hendricks', 'PJ Cummins', 'JW Hastings', 'Karanveer Singh',\n",
       "       'DJ Muthuswami', 'TA Boult', 'SA Abbott', 'KC Cariappa',\n",
       "       'DJ Hooda', 'J Suchith', 'D Wiese', 'MJ McClenaghan', 'HH Pandya',\n",
       "       'RG More', 'SN Thakur', 'GS Sandhu', 'Gurkeerat Singh', 'J Yadav',\n",
       "       'BB Sran', 'M Ashwin', 'C Munro', 'CR Brathwaite', 'MP Stoinis',\n",
       "       'P Sahu', 'Mustafizur Rahman', 'AF Milne', 'Kuldeep Yadav',\n",
       "       'KH Pandya', 'KJ Abbott', 'T Shamsi', 'S Kaushik', 'SM Boland',\n",
       "       'Swapnil Singh', 'CJ Jordan', 'A Zampa', 'Sachin Baby', 'N Rana',\n",
       "       'DL Chahar', 'KS Williamson', 'TS Mills', 'A Choudhary', 'TM Head',\n",
       "       'Rashid Khan', 'BA Stokes', 'CR Woakes', 'T Natarajan',\n",
       "       'RD Chahar', 'B Stanlake', 'Tejas Baroka', 'Basil Thampi',\n",
       "       'C de Grandhomme', 'AJ Tye', 'LH Ferguson', 'Mohammad Nabi',\n",
       "       'Mohammed Siraj', 'K Rabada', 'Washington Sundar', 'SS Agarwal',\n",
       "       'NB Singh', 'RA Tripathi', 'Ankit Soni', 'MJ Henry', 'Avesh Khan',\n",
       "       'MA Wood', 'M Markande', 'Mujeeb Ur Rahman', 'K Khejroliya',\n",
       "       'K Gowtham', 'DJM Short', 'TK Curran', 'A Dananjaya',\n",
       "       'Shivam Mavi', 'JC Archer', 'LE Plunkett', 'IS Sodhi', 'MK Lomror',\n",
       "       'L Ngidi', 'KM Asif', 'DJ Willey', 'M Prasidh Krishna', 'MM Ali',\n",
       "       'JPR Scantlebury-Searles', 'S Lamichhane', 'CJ Dala', 'KK Ahmed',\n",
       "       'Navdeep Saini', 'S Dube', 'Rasikh Salam', 'KMA Paul', 'SM Curran',\n",
       "       'CV Varun', 'GC Viljoen', 'Mandeep Singh', 'P Ray Barman',\n",
       "       'MJ Santner', 'JP Behrendorff', 'SC Kuggeleijn', 'AS Joseph',\n",
       "       'HF Gurney', 'S Midhun', 'R Parag', 'LS Livingstone', 'SN Khan',\n",
       "       'Abhishek Sharma', 'Arshdeep Singh', 'SE Rutherford',\n",
       "       'Harpreet Brar', 'Y Prithvi Raj', 'O Thomas', 'AS Roy',\n",
       "       'S Sandeep Warrier', 'JL Pattinson', 'SS Cottrell', 'Ravi Bishnoi',\n",
       "       'A Nortje', 'JR Hazlewood', 'KL Nagarkoti', 'I Udana',\n",
       "       'Abdul Samad', 'Kartik Tyagi', 'TU Deshpande', 'CJ Green',\n",
       "       'Shahbaz Ahmed', 'DR Sams', 'Monu Kumar', 'DA Warner', 'P Dubey',\n",
       "       'KA Jamieson', 'M Jansen', 'C Sakariya', 'JA Richardson',\n",
       "       'RP Meredith', 'LI Meriwala', 'Lalit Yadav', 'Jalaj S Saxena',\n",
       "       'FA Allen', 'PWH de Silva', 'IC Porel', 'AU Rashid', 'NT Ellis',\n",
       "       'VR Iyer', 'AK Markram', 'GHS Garton', 'Akash Singh',\n",
       "       'GD Phillips', 'Umran Malik', 'K Yadav', 'RV Patel', 'OF Smith',\n",
       "       'Akash Deep', 'PVD Chameera', 'Mohsin Khan', 'R Shepherd',\n",
       "       'Mukesh Choudhary', 'D Pretorius', 'VG Arora', 'YBK Jaiswal',\n",
       "       'Tilak Varma', 'DG Nalkande', 'M Theekshana', 'D Brevis',\n",
       "       'R Powell', 'KR Sen', 'Yash Dayal', 'Shashank Singh',\n",
       "       'Aman Hakim Khan', 'OC McCoy', 'HR Shokeen', 'A Badoni',\n",
       "       'DJ Mitchell', 'Harshit Rana', 'SS Iyer', 'K Kartikeya',\n",
       "       'Simarjeet Singh', 'Fazalhaq Farooqi', 'R Sai Kishore',\n",
       "       'Ramandeep Singh', 'PH Solanki', 'M Pathirana', 'R Sanjay Yadav',\n",
       "       'J Little', 'RS Hangargekar', 'Sikandar Raza', 'Mukesh Kumar',\n",
       "       'KR Mayers', 'NA Saini', 'RJW Topley', 'MG Bracewell',\n",
       "       'Arshad Khan', 'C Green', 'Yash Thakur', 'Suyash Sharma',\n",
       "       'SSB Magala', 'Mohit Rathee', 'MW Short', 'Vijaykumar Vyshak',\n",
       "       'Yudhvir Singh', 'Arjun Tendulkar', 'D Jansen', 'Noor Ahmad',\n",
       "       'Naveen-ul-Haq', 'Mayank Dagar', 'Gurnoor Brar', 'AJ Hosein',\n",
       "       'Akash Madhwal', 'R Goyal', 'T Stubbs', 'Vivrant Sharma',\n",
       "       'JE Root', 'Nithish Kumar Reddy', 'H Sharma', 'Sumit Kumar',\n",
       "       'N Burger', 'L Wood', 'SZ Mulani', 'Naman Dhir', 'G Coetzee',\n",
       "       'Azmatullah Omarzai', 'SH Johnson', 'KT Maphaka', 'M Siddharth',\n",
       "       'MP Yadav', 'R Ravindra', 'KA Maharaj', 'WG Jacks', 'S Joseph',\n",
       "       'Arshad Khan (2)', 'M Shahrukh Khan', 'N Thushara', 'LB Williams',\n",
       "       'RJ Gleeson', 'MJ Suthar', 'A Kamboj', 'V Viyaskanth',\n",
       "       'V Kaverappa', 'Gulbadin Naib', 'N Wadhera', 'Atharva Taide',\n",
       "       'PVSN Raju', 'V Puthur', 'V Nigam', 'DS Rathi', 'Prince Yadav',\n",
       "       'Ishan Kishan', 'Zeeshan Ansari', 'PWA Mulder', 'J Overton',\n",
       "       'Ashwani Kumar', 'PHKD Mendis', 'E Malinga', 'XC Bartlett',\n",
       "       'C Bosch', 'Karim Janat', 'Suryansh Shedge', 'M Tiwari',\n",
       "       'Harsh Dubey', \"W O'Rourke\", 'Musheer Khan'], dtype=object)"
      ]
     },
     "execution_count": 116,
     "metadata": {},
     "output_type": "execute_result"
    }
   ],
   "source": [
    "df['bowler'].unique()"
   ]
  },
  {
   "cell_type": "code",
   "execution_count": 117,
   "id": "f918d9d2-aff7-477d-ac23-0f14ead9e7a1",
   "metadata": {},
   "outputs": [
    {
     "data": {
      "text/plain": [
       "bowler\n",
       "R Ashwin         4868\n",
       "SP Narine        4421\n",
       "B Kumar          4378\n",
       "RA Jadeja        4127\n",
       "YS Chahal        3905\n",
       "                 ... \n",
       "DA Warner           2\n",
       "Ishan Kishan        1\n",
       "Atharva Taide       1\n",
       "AC Gilchrist        1\n",
       "YBK Jaiswal         1\n",
       "Name: count, Length: 550, dtype: int64"
      ]
     },
     "execution_count": 117,
     "metadata": {},
     "output_type": "execute_result"
    }
   ],
   "source": [
    "df['bowler'].value_counts()"
   ]
  },
  {
   "cell_type": "code",
   "execution_count": 118,
   "id": "fc3a8807-ec40-4cc0-83a0-3d5867c63213",
   "metadata": {},
   "outputs": [
    {
     "data": {
      "text/plain": [
       "0"
      ]
     },
     "execution_count": 118,
     "metadata": {},
     "output_type": "execute_result"
    }
   ],
   "source": [
    "df['bowler'].isna().sum()"
   ]
  },
  {
   "cell_type": "code",
   "execution_count": 119,
   "id": "67b80cb4-1b80-408a-a9f6-a7f134b913fd",
   "metadata": {},
   "outputs": [
    {
     "data": {
      "text/plain": [
       "dtype('O')"
      ]
     },
     "execution_count": 119,
     "metadata": {},
     "output_type": "execute_result"
    }
   ],
   "source": [
    "df['bowler'].dtypes"
   ]
  },
  {
   "cell_type": "markdown",
   "id": "a1a2234c-ad6a-47f5-95ec-2500ba20cfa6",
   "metadata": {},
   "source": [
    "`valid_ball`\n",
    "- binary column \n",
    "- values are 0 and 1 nned to be convetred to yes and no \n",
    "- highest is 1 and count is 267962\n",
    "- Lowest is 0 and the cont is 10243\n",
    "- no missing values\n",
    "- data type is object "
   ]
  },
  {
   "cell_type": "code",
   "execution_count": 120,
   "id": "a21c3b24-2d20-49a0-b9a6-453cac9017c8",
   "metadata": {},
   "outputs": [
    {
     "data": {
      "text/plain": [
       "0         1\n",
       "1         1\n",
       "2         0\n",
       "3         1\n",
       "4         1\n",
       "         ..\n",
       "278200    1\n",
       "278201    1\n",
       "278202    1\n",
       "278203    1\n",
       "278204    1\n",
       "Name: valid_ball, Length: 278205, dtype: int64"
      ]
     },
     "execution_count": 120,
     "metadata": {},
     "output_type": "execute_result"
    }
   ],
   "source": [
    "df['valid_ball']"
   ]
  },
  {
   "cell_type": "code",
   "execution_count": 121,
   "id": "1c59e58f-3b6d-43be-9d23-f2eab1a2c212",
   "metadata": {},
   "outputs": [
    {
     "data": {
      "text/plain": [
       "array([1, 0], dtype=int64)"
      ]
     },
     "execution_count": 121,
     "metadata": {},
     "output_type": "execute_result"
    }
   ],
   "source": [
    "df['valid_ball'].unique()"
   ]
  },
  {
   "cell_type": "code",
   "execution_count": 122,
   "id": "60166732-f0b4-4cfb-8d33-9ebbabfb9720",
   "metadata": {},
   "outputs": [
    {
     "data": {
      "text/plain": [
       "2"
      ]
     },
     "execution_count": 122,
     "metadata": {},
     "output_type": "execute_result"
    }
   ],
   "source": [
    "df['valid_ball'].nunique()"
   ]
  },
  {
   "cell_type": "code",
   "execution_count": 123,
   "id": "8cfb45b9-b8b3-4ae8-be9c-e1ffb0713278",
   "metadata": {},
   "outputs": [
    {
     "data": {
      "text/plain": [
       "valid_ball\n",
       "1    267962\n",
       "0     10243\n",
       "Name: count, dtype: int64"
      ]
     },
     "execution_count": 123,
     "metadata": {},
     "output_type": "execute_result"
    }
   ],
   "source": [
    "df['valid_ball'].value_counts()"
   ]
  },
  {
   "cell_type": "code",
   "execution_count": 124,
   "id": "2cd2d2b4-01fd-410d-9a66-d7e5f1ab6972",
   "metadata": {},
   "outputs": [
    {
     "data": {
      "text/plain": [
       "dtype('int64')"
      ]
     },
     "execution_count": 124,
     "metadata": {},
     "output_type": "execute_result"
    }
   ],
   "source": [
    "df['valid_ball'].dtypes"
   ]
  },
  {
   "cell_type": "code",
   "execution_count": 125,
   "id": "4a40848c-e91b-47a9-85d1-6f8d17905122",
   "metadata": {},
   "outputs": [
    {
     "data": {
      "text/plain": [
       "0"
      ]
     },
     "execution_count": 125,
     "metadata": {},
     "output_type": "execute_result"
    }
   ],
   "source": [
    "df['valid_ball'].isna().sum()"
   ]
  },
  {
   "cell_type": "markdown",
   "id": "17683fbb-3755-48bc-b6e7-e4272547ceb3",
   "metadata": {},
   "source": [
    "`runs_extras`\n",
    "- Categoricla column\n",
    "- total 7 unique categories\n",
    "- highest is 0 and the count is 263072\n",
    "- lowest is 7 and the count is 1\n",
    "- Data type is int64\n",
    "- There is no missing values in the column"
   ]
  },
  {
   "cell_type": "code",
   "execution_count": 176,
   "id": "6c1ad142-fbd9-4631-99e5-a5a7a3b9e454",
   "metadata": {},
   "outputs": [
    {
     "data": {
      "text/plain": [
       "0         1\n",
       "1         0\n",
       "2         1\n",
       "3         0\n",
       "4         0\n",
       "         ..\n",
       "278200    0\n",
       "278201    0\n",
       "278202    0\n",
       "278203    0\n",
       "278204    0\n",
       "Name: runs_extras, Length: 278205, dtype: int64"
      ]
     },
     "execution_count": 176,
     "metadata": {},
     "output_type": "execute_result"
    }
   ],
   "source": [
    "df['runs_extras']"
   ]
  },
  {
   "cell_type": "code",
   "execution_count": 177,
   "id": "0b039597-4332-46b4-afa2-79cdad7c5b15",
   "metadata": {},
   "outputs": [
    {
     "data": {
      "text/plain": [
       "array([1, 0, 5, 4, 2, 3, 7], dtype=int64)"
      ]
     },
     "execution_count": 177,
     "metadata": {},
     "output_type": "execute_result"
    }
   ],
   "source": [
    "df['runs_extras'].unique()"
   ]
  },
  {
   "cell_type": "code",
   "execution_count": 178,
   "id": "e441ee63-47cc-427d-bb29-fe06d73cea35",
   "metadata": {},
   "outputs": [
    {
     "data": {
      "text/plain": [
       "7"
      ]
     },
     "execution_count": 178,
     "metadata": {},
     "output_type": "execute_result"
    }
   ],
   "source": [
    "df['runs_extras'].nunique()"
   ]
  },
  {
   "cell_type": "code",
   "execution_count": 179,
   "id": "48c00c69-2797-4933-82e8-8ad37bf29698",
   "metadata": {},
   "outputs": [
    {
     "data": {
      "text/plain": [
       "runs_extras\n",
       "0    263072\n",
       "1     13549\n",
       "2       622\n",
       "4       529\n",
       "5       349\n",
       "3        83\n",
       "7         1\n",
       "Name: count, dtype: int64"
      ]
     },
     "execution_count": 179,
     "metadata": {},
     "output_type": "execute_result"
    }
   ],
   "source": [
    "df['runs_extras'].value_counts()"
   ]
  },
  {
   "cell_type": "code",
   "execution_count": 180,
   "id": "22852f82-a19e-4a25-8a09-86a41de33ea4",
   "metadata": {},
   "outputs": [
    {
     "data": {
      "text/plain": [
       "0"
      ]
     },
     "execution_count": 180,
     "metadata": {},
     "output_type": "execute_result"
    }
   ],
   "source": [
    "df['runs_extras'].isna().sum()"
   ]
  },
  {
   "cell_type": "code",
   "execution_count": 181,
   "id": "02c5368b-f8ab-42f0-bd70-6ca6fb15fc1e",
   "metadata": {},
   "outputs": [
    {
     "data": {
      "text/plain": [
       "dtype('int64')"
      ]
     },
     "execution_count": 181,
     "metadata": {},
     "output_type": "execute_result"
    }
   ],
   "source": [
    "df['runs_extras'].dtypes"
   ]
  },
  {
   "cell_type": "markdown",
   "id": "75502c45-8c3e-4a6d-8bb5-9361f2316aa2",
   "metadata": {},
   "source": [
    "`runs_total`\n",
    "- Categorical column\n",
    "- 8 unique values\n",
    "- highest is 1 and the count is 115711\n",
    "- Lowest is 7 and the count is 95\n",
    "- no missing values\n",
    "- The data type is int 64"
   ]
  },
  {
   "cell_type": "code",
   "execution_count": 182,
   "id": "fb43fee5-3b60-4713-b2c0-81d8577df5fe",
   "metadata": {},
   "outputs": [
    {
     "data": {
      "text/plain": [
       "0         1\n",
       "1         0\n",
       "2         1\n",
       "3         0\n",
       "4         0\n",
       "         ..\n",
       "278200    0\n",
       "278201    6\n",
       "278202    4\n",
       "278203    6\n",
       "278204    6\n",
       "Name: runs_total, Length: 278205, dtype: int64"
      ]
     },
     "execution_count": 182,
     "metadata": {},
     "output_type": "execute_result"
    }
   ],
   "source": [
    "df['runs_total']"
   ]
  },
  {
   "cell_type": "code",
   "execution_count": 183,
   "id": "b075fc4c-7aae-4796-bd10-457c72c7cd01",
   "metadata": {},
   "outputs": [
    {
     "data": {
      "text/plain": [
       "array([1, 0, 4, 6, 5, 2, 3, 7], dtype=int64)"
      ]
     },
     "execution_count": 183,
     "metadata": {},
     "output_type": "execute_result"
    }
   ],
   "source": [
    "df['runs_total'].unique()"
   ]
  },
  {
   "cell_type": "code",
   "execution_count": 184,
   "id": "ed2db7e7-6a21-489b-af9e-24a4a6af4f92",
   "metadata": {},
   "outputs": [
    {
     "data": {
      "text/plain": [
       "8"
      ]
     },
     "execution_count": 184,
     "metadata": {},
     "output_type": "execute_result"
    }
   ],
   "source": [
    "df['runs_total'].nunique()"
   ]
  },
  {
   "cell_type": "code",
   "execution_count": 185,
   "id": "dc7003ce-acd4-4271-99ef-0eb89908994d",
   "metadata": {},
   "outputs": [
    {
     "data": {
      "text/plain": [
       "runs_total\n",
       "1    115711\n",
       "0     95778\n",
       "4     32502\n",
       "2     18349\n",
       "6     14259\n",
       "3       954\n",
       "5       557\n",
       "7        95\n",
       "Name: count, dtype: int64"
      ]
     },
     "execution_count": 185,
     "metadata": {},
     "output_type": "execute_result"
    }
   ],
   "source": [
    "df['runs_total'].value_counts()"
   ]
  },
  {
   "cell_type": "code",
   "execution_count": 186,
   "id": "c774f85b-2a4f-4ada-8617-d71bcad5d97e",
   "metadata": {},
   "outputs": [
    {
     "data": {
      "text/plain": [
       "0"
      ]
     },
     "execution_count": 186,
     "metadata": {},
     "output_type": "execute_result"
    }
   ],
   "source": [
    "df['runs_total'].isna().sum()"
   ]
  },
  {
   "cell_type": "code",
   "execution_count": 189,
   "id": "25f8760e-61ae-485a-b140-eb41ab57fea2",
   "metadata": {},
   "outputs": [
    {
     "data": {
      "text/plain": [
       "dtype('int64')"
      ]
     },
     "execution_count": 189,
     "metadata": {},
     "output_type": "execute_result"
    }
   ],
   "source": [
    "df['runs_total'].dtypes"
   ]
  },
  {
   "cell_type": "markdown",
   "id": "a9e1b736-1df2-4e68-b941-33f622672543",
   "metadata": {},
   "source": [
    "`wicket_kind`\n",
    "- Categorical column\n",
    "- total 10 categories\n",
    "- missing values are 264382\n",
    "- lowest is obstructing the field and the count is 3\n",
    "- Highest is caught and the count is 8665\n",
    "- data type is object "
   ]
  },
  {
   "cell_type": "code",
   "execution_count": 190,
   "id": "350f585e-2442-4ec8-ab65-2281c4e76ef6",
   "metadata": {},
   "outputs": [
    {
     "data": {
      "text/plain": [
       "0         NaN\n",
       "1         NaN\n",
       "2         NaN\n",
       "3         NaN\n",
       "4         NaN\n",
       "         ... \n",
       "278200    NaN\n",
       "278201    NaN\n",
       "278202    NaN\n",
       "278203    NaN\n",
       "278204    NaN\n",
       "Name: wicket_kind, Length: 278205, dtype: object"
      ]
     },
     "execution_count": 190,
     "metadata": {},
     "output_type": "execute_result"
    }
   ],
   "source": [
    "df['wicket_kind']"
   ]
  },
  {
   "cell_type": "code",
   "execution_count": 191,
   "id": "241e5dc2-c73f-44a7-80ec-00b53cdbd8a5",
   "metadata": {},
   "outputs": [
    {
     "data": {
      "text/plain": [
       "array([nan, 'caught', 'bowled', 'run out', 'lbw', 'retired hurt',\n",
       "       'stumped', 'caught and bowled', 'hit wicket',\n",
       "       'obstructing the field', 'retired out'], dtype=object)"
      ]
     },
     "execution_count": 191,
     "metadata": {},
     "output_type": "execute_result"
    }
   ],
   "source": [
    "df['wicket_kind'].unique()"
   ]
  },
  {
   "cell_type": "code",
   "execution_count": 192,
   "id": "15ef1f90-0df6-42cc-b3e8-1f081b27ac8d",
   "metadata": {},
   "outputs": [
    {
     "data": {
      "text/plain": [
       "10"
      ]
     },
     "execution_count": 192,
     "metadata": {},
     "output_type": "execute_result"
    }
   ],
   "source": [
    "df['wicket_kind'].nunique()"
   ]
  },
  {
   "cell_type": "code",
   "execution_count": 193,
   "id": "e7b5b188-6541-46ed-9a85-9960210d8553",
   "metadata": {},
   "outputs": [
    {
     "data": {
      "text/plain": [
       "wicket_kind\n",
       "caught                   8665\n",
       "bowled                   2345\n",
       "run out                  1153\n",
       "lbw                       853\n",
       "caught and bowled         388\n",
       "stumped                   376\n",
       "hit wicket                 18\n",
       "retired hurt               17\n",
       "retired out                 5\n",
       "obstructing the field       3\n",
       "Name: count, dtype: int64"
      ]
     },
     "execution_count": 193,
     "metadata": {},
     "output_type": "execute_result"
    }
   ],
   "source": [
    "df['wicket_kind'].value_counts()"
   ]
  },
  {
   "cell_type": "code",
   "execution_count": 194,
   "id": "1dd4ace3-210e-4b7c-938f-5a242ac0a952",
   "metadata": {},
   "outputs": [
    {
     "data": {
      "text/plain": [
       "264382"
      ]
     },
     "execution_count": 194,
     "metadata": {},
     "output_type": "execute_result"
    }
   ],
   "source": [
    "df['wicket_kind'].isna().sum()"
   ]
  },
  {
   "cell_type": "code",
   "execution_count": 196,
   "id": "2f92418f-f26f-4140-862a-cc610ff8b31a",
   "metadata": {},
   "outputs": [
    {
     "data": {
      "text/plain": [
       "dtype('O')"
      ]
     },
     "execution_count": 196,
     "metadata": {},
     "output_type": "execute_result"
    }
   ],
   "source": [
    "df['wicket_kind'].dtypes"
   ]
  },
  {
   "cell_type": "markdown",
   "id": "9525742f-9df2-46e5-abf5-a83924baf314",
   "metadata": {},
   "source": [
    "`player_out`\n",
    "- Categorical column \n",
    "- Highest is RG Sharma and the count is 237\n",
    "- Lowest is BKG Mendis and the count is 1 \n",
    "- Missing values are - 264382\n",
    "- Data type is object "
   ]
  },
  {
   "cell_type": "code",
   "execution_count": 197,
   "id": "a319ca7e-c2dd-4f9e-b723-9c439e85534c",
   "metadata": {},
   "outputs": [
    {
     "data": {
      "text/plain": [
       "0         NaN\n",
       "1         NaN\n",
       "2         NaN\n",
       "3         NaN\n",
       "4         NaN\n",
       "         ... \n",
       "278200    NaN\n",
       "278201    NaN\n",
       "278202    NaN\n",
       "278203    NaN\n",
       "278204    NaN\n",
       "Name: player_out, Length: 278205, dtype: object"
      ]
     },
     "execution_count": 197,
     "metadata": {},
     "output_type": "execute_result"
    }
   ],
   "source": [
    "df['player_out']"
   ]
  },
  {
   "cell_type": "code",
   "execution_count": 198,
   "id": "dbbeedb5-5429-4257-867d-d2d75400d739",
   "metadata": {},
   "outputs": [
    {
     "data": {
      "text/plain": [
       "array([nan, 'SC Ganguly', 'RT Ponting', 'DJ Hussey', 'R Dravid',\n",
       "       'V Kohli', 'JH Kallis', 'W Jaffer', 'MV Boucher', 'B Akhil',\n",
       "       'CL White', 'AA Noffke', 'Z Khan', 'SB Joshi', 'PA Patel',\n",
       "       'ML Hayden', 'MS Dhoni', 'SK Raina', 'JDP Oram', 'K Goel',\n",
       "       'JR Hopes', 'Yuvraj Singh', 'KC Sangakkara', 'T Kohli',\n",
       "       'YK Pathan', 'SR Watson', 'DS Lehmann', 'M Kaif', 'M Rawat',\n",
       "       'RA Jadeja', 'SK Warne', 'V Sehwag', 'L Ronchi', 'DJ Thornely',\n",
       "       'ST Jayasuriya', 'PR Shah', 'RV Uthappa', 'AM Nayar', 'SM Pollock',\n",
       "       'S Chanderpaul', 'LRPL Taylor', 'Y Venugopal Rao', 'VVS Laxman',\n",
       "       'AC Gilchrist', 'RG Sharma', 'SB Styris', 'AS Yadav', 'A Symonds',\n",
       "       'WPUJC Vaas', 'SB Bangar', 'PP Ojha', 'BB McCullum', 'WP Saha',\n",
       "       'Mohammad Hafeez', 'DPMD Jayawardene', 'IK Pathan', 'B Lee',\n",
       "       'S Sohal', 'Kamran Akmal', 'Shahid Afridi', 'G Gambhir',\n",
       "       'MEK Hussey', 'DJ Bravo', 'MA Khote', 'Harbhajan Singh',\n",
       "       'GC Smith', 'D Salunkhe', 'RR Sarwan', 'PP Chawla', 'S Sreesanth',\n",
       "       'VRV Singh', 'SS Tiwary', 'P Kumar', 'AB Agarkar', 'M Kartik',\n",
       "       'LR Shukla', 'AM Rahane', 'S Dhawan', 'Shoaib Malik', 'KD Karthik',\n",
       "       'R Bhatia', 'MK Tiwary', 'MF Maharoof', 'SM Katich',\n",
       "       'TM Srivastava', 'B Chipli', 'DW Steyn', 'DB Das', 'MK Pandey',\n",
       "       'HH Gibbs', 'DNT Zoysa', 'D Kalyankrishna', 'SA Asnodkar',\n",
       "       'Salman Butt', 'BJ Hodge', 'Umar Gul', 'AB Dinda', 'SP Fleming',\n",
       "       'S Vidyut', 'JA Morkel', 'SE Marsh', 'Misbah-ul-Haq',\n",
       "       'YV Takawale', 'AB de Villiers', 'PJ Sangwan', 'Mohammad Asif',\n",
       "       'GD McGrath', 'S Badrinath', 'Joginder Sharma', 'M Muralitharan',\n",
       "       'M Ntini', 'DT Patil', 'A Kumble', 'S Anirudha', 'Sohail Tanvir',\n",
       "       'SK Trivedi', 'CK Kapugedera', 'A Chopra', 'T Taibu',\n",
       "       'J Arunkumar', 'DB Ravi Teja', 'RP Singh', 'A Mishra',\n",
       "       'AD Mascarenhas', 'R Vinay Kumar', 'TM Dilshan', 'VY Mahesh',\n",
       "       'SR Tendulkar', 'I Sharma', 'Shoaib Akhtar', 'LPC Silva', 'H Das',\n",
       "       'SP Goswami', 'DR Smith', 'SD Chitnis', 'A Nehra', 'VS Yeligati',\n",
       "       'MS Gony', 'L Balaji', 'LA Pomersbach', 'A Nel', 'A Mukund',\n",
       "       'Younis Khan', 'NK Patel', 'WA Mota', 'JP Duminy', 'A Flintoff',\n",
       "       'JD Ryder', 'KP Pietersen', 'T Henderson', 'MM Patel',\n",
       "       'Kamran Khan', 'RS Bopara', 'CH Gayle', 'MC Henriques',\n",
       "       'R Bishnoi', 'KV Sharma', 'PC Valthaty', 'RJ Quiney',\n",
       "       'Yashpal Singh', 'Pankaj Singh', 'FH Edwards', 'AS Raut',\n",
       "       'AN Ghosh', 'BAW Mendis', 'DL Vettori', 'RE van der Merwe',\n",
       "       'RR Powar', 'AA Bilakhia', 'TL Suman', 'Shoaib Ahmed', 'GR Napier',\n",
       "       'MN van Wyk', 'NV Ojha', 'LA Carseldine', 'M Vijay', 'SB Jakati',\n",
       "       'DA Warner', 'M Manhas', 'RJ Harris', 'D du Preez', 'RR Raje',\n",
       "       'DS Kulkarni', 'M Morkel', 'AD Mathews', 'S Tyagi', 'C Nanda',\n",
       "       'SL Malinga', 'J Botha', 'A Singh', 'GJ Bailey', 'AB McDonald',\n",
       "       'Y Nagar', 'SS Shaikh', 'R Ashwin', 'T Thushara',\n",
       "       'Mohammad Ashraful', 'CA Pujara', 'Anirudh Singh', 'AP Tare',\n",
       "       'AT Rayudu', 'R Sathish', 'AA Jhunjhunwala', 'P Dogra', 'A Uniyal',\n",
       "       'MS Bisla', 'EJG Morgan', 'JM Kemp', 'OA Shah', 'RS Gavaskar',\n",
       "       'SE Bond', 'KA Pollard', 'DP Nannes', 'MJ Lumb', 'DR Martyn',\n",
       "       'S Narwal', 'AB Barath', 'FY Fazal', 'MD Mishra', 'S Ladda',\n",
       "       'J Theron', 'SJ Srivastava', 'R Sharma', 'Mandeep Singh',\n",
       "       'AC Voges', 'Jaskaran Singh', 'KAJ Roach', 'PD Collingwood',\n",
       "       'CK Langeveldt', 'VS Malik', 'KM Jadhav', 'SW Tait', 'A Mithun',\n",
       "       'AP Dole', 'Harmeet Singh', 'R McLaren', 'S Sriram', 'KP Appanna',\n",
       "       'C Madan', 'AG Paunikar', 'MR Marsh', 'AJ Finch', 'STR Binny',\n",
       "       'B Sumanth', 'IR Jaggi', 'DT Christian', 'RV Gomez', 'MA Agarwal',\n",
       "       'UBT Chand', 'UT Yadav', 'DJ Jacobs', 'Sunny Singh', 'AL Menaria',\n",
       "       'AUK Pathan', 'WD Parnell', 'JJ van der Wath', 'R Ninan',\n",
       "       'MS Wade', 'TD Paine', 'SB Wagh', 'JEC Franklin',\n",
       "       'Shakib Al Hasan', 'S Randiv', 'BJ Haddin', 'NLTC Perera',\n",
       "       'JE Taylor', 'NL McCullum', 'RN ten Doeschate', 'TR Birt',\n",
       "       'M Klinger', 'Harpreet Singh', 'Bipul Sharma', 'AC Blizzard',\n",
       "       'CA Ingram', 'S Nadeem', 'DH Yagnik', 'KB Arun Karthik',\n",
       "       'AA Chavan', 'ND Doshi', 'CJ Ferguson', 'Y Gnaneswara Rao',\n",
       "       'S Rana', 'BA Bhatt', 'F du Plessis', 'DE Bollinger', 'RE Levi',\n",
       "       'MN Samuels', 'B Kumar', 'SPD Smith', 'SA Yadav', 'HV Patel',\n",
       "       'GJ Maxwell', 'DJ Harris', 'Ankit Sharma', 'SP Narine',\n",
       "       'JP Faulkner', 'KK Cooper', 'GB Hogg', 'RR Bhatkal', 'CJ McKay',\n",
       "       'N Saini', 'DA Miller', 'P Negi', 'Azhar Mahmood', 'AC Thomas',\n",
       "       'RJ Peterson', 'A Ashish Reddy', 'V Pratap Singh', 'MJ Clarke',\n",
       "       'Gurkeerat Singh', 'VR Aaron', 'AP Majumdar', 'PA Reddy',\n",
       "       'AD Russell', 'CA Lynn', 'Sunny Gupta', 'MC Juneja', 'KK Nair',\n",
       "       'GH Vihari', 'MDKJ Perera', 'B Laughlin', 'Mohammed Shami',\n",
       "       'BMAJ Mendis', 'M Vohra', 'R Rampaul', 'P Awana',\n",
       "       'SMSM Senanayake', 'BJ Rohrer', 'KL Rahul', 'J Syed Mohammad',\n",
       "       'Q de Kock', 'BB Samantray', 'R Dhawan', 'MG Johnson', 'LJ Wright',\n",
       "       'AG Murtaza', 'IC Pandey', 'X Thalaivan Sargunam', 'DJG Sammy',\n",
       "       'SV Samson', 'KW Richardson', 'CH Morris', 'MM Sharma',\n",
       "       'CM Gautam', 'UA Birla', 'Parvez Rasool', 'Sachin Baby',\n",
       "       'NM Coulter-Nile', 'CJ Anderson', 'NJ Maddinson', 'AR Patel',\n",
       "       'JDS Neesham', 'TG Southee', 'PV Tambe', 'MA Starc', 'BR Dunk',\n",
       "       'RR Rossouw', 'Shivam Sharma', 'LMP Simmons', 'VH Zol',\n",
       "       'BCJ Cutting', 'Imran Tahir', 'R Shukla', 'BE Hendricks',\n",
       "       'M de Lange', 'S Gopal', 'R Tewatia', 'JO Holder', 'JD Unadkat',\n",
       "       'SS Iyer', 'DJ Hooda', 'SA Abbott', 'AN Ahmed', 'KS Williamson',\n",
       "       'Iqbal Abdulla', 'SN Khan', 'D Wiese', 'HH Pandya',\n",
       "       'MJ McClenaghan', 'Anureet Singh', 'DJ Muthuswami', 'PJ Cummins',\n",
       "       'Karanveer Singh', 'Sandeep Sharma', 'J Suchith', 'JC Buttler',\n",
       "       'CR Brathwaite', 'MP Stoinis', 'Ishan Kishan', 'C Munro',\n",
       "       'AD Nath', 'MJ Guptill', 'P Sahu', 'TM Head', 'M Ashwin',\n",
       "       'KH Pandya', 'NS Naik', 'RR Pant', 'SW Billings', 'KC Cariappa',\n",
       "       'PSP Handscomb', 'Swapnil Singh', 'J Yadav', 'UT Khawaja',\n",
       "       'HM Amla', 'JJ Bumrah', 'A Zampa', 'N Rana', 'S Kaushik',\n",
       "       'F Behardien', 'KJ Abbott', 'ER Dwivedi', 'CJ Jordan', 'S Aravind',\n",
       "       'TS Mills', 'YS Chahal', 'BA Stokes', 'JJ Roy', 'Vishnu Vinod',\n",
       "       'CR Woakes', 'RA Tripathi', 'DL Chahar', 'V Shankar',\n",
       "       'Rashid Khan', 'SN Thakur', 'C de Grandhomme', 'S Badree',\n",
       "       'AF Milne', 'Mohammad Nabi', 'K Rabada', 'AJ Tye', 'Kuldeep Yadav',\n",
       "       'SP Jackson', 'Ankit Soni', 'A Choudhary', 'AS Rajpoot',\n",
       "       'Washington Sundar', 'E Lewis', 'MA Wood', 'RK Singh', 'DJM Short',\n",
       "       'K Gowtham', 'S Kaul', 'Mujeeb Ur Rahman', 'Shubman Gill',\n",
       "       'Shivam Mavi', 'TK Curran', 'TA Boult', 'H Klaasen', 'RK Bhui',\n",
       "       'JC Archer', 'PP Shaw', 'LE Plunkett', 'Basil Thampi',\n",
       "       'M Markande', 'Mustafizur Rahman', 'BB Sran', 'AD Hales',\n",
       "       'MK Lomror', 'Mohammed Siraj', 'DR Shorey', 'MM Ali', 'P Chopra',\n",
       "       'IS Sodhi', 'Abhishek Sharma', 'JPR Scantlebury-Searles',\n",
       "       'SO Hetmyer', 'S Dube', 'Navdeep Saini', 'JM Bairstow', 'KMA Paul',\n",
       "       'N Pooran', 'P Ray Barman', 'SM Curran', 'GC Viljoen',\n",
       "       'S Lamichhane', 'RD Chahar', 'M Prasidh Krishna', 'SD Lad',\n",
       "       'R Parag', 'JL Denly', 'LS Livingstone', 'KK Ahmed', 'AJ Turner',\n",
       "       'SE Rutherford', 'MJ Santner', 'P Simran Singh', 'JL Pattinson',\n",
       "       'D Padikkal', 'PK Garg', 'YBK Jaiswal', 'RD Gaikwad',\n",
       "       'JR Philippe', 'Ravi Bishnoi', 'Abdul Samad', 'I Udana',\n",
       "       'KL Nagarkoti', 'CV Varun', 'SS Cottrell', 'Arshdeep Singh',\n",
       "       'N Jagadeesan', 'T Banton', 'AT Carey', 'TU Deshpande', 'A Nortje',\n",
       "       'Kartik Tyagi', 'DR Sams', 'M Jansen', 'RM Patidar',\n",
       "       'Shahbaz Ahmed', 'KA Jamieson', 'JA Richardson', 'Lalit Yadav',\n",
       "       'M Shahrukh Khan', 'Virat Singh', 'FA Allen', 'C Sakariya',\n",
       "       'DJ Malan', 'Anmolpreet Singh', 'KS Bharat', 'PWH de Silva',\n",
       "       'VR Iyer', 'TH David', 'AK Markram', 'NT Ellis', 'Avesh Khan',\n",
       "       'TL Seifert', 'GHS Garton', 'RV Patel', 'GD Phillips',\n",
       "       'Anuj Rawat', 'DP Conway', 'Tilak Varma', 'R Powell',\n",
       "       'PBB Rajapaksa', 'RA Bawa', 'A Badoni', 'R Shepherd', 'DJ Willey',\n",
       "       'D Pretorius', 'Harpreet Brar', 'A Manohar', 'JM Sharma',\n",
       "       'OF Smith', 'D Brevis', 'VG Arora', 'B Sai Sudharsan',\n",
       "       'Ramandeep Singh', 'Rasikh Salam', 'HE van der Dussen',\n",
       "       'PVD Chameera', 'SS Prabhudessai', 'Akash Deep', 'Aman Hakim Khan',\n",
       "       'AS Joseph', 'HR Shokeen', 'LH Ferguson', 'Yash Dayal',\n",
       "       'DJ Mitchell', 'B Indrajith', 'Shashank Singh', 'AS Roy',\n",
       "       'Harshit Rana', 'Umran Malik', 'K Kartikeya', 'KS Sharma',\n",
       "       'Mohsin Khan', 'Simarjeet Singh', 'M Theekshana',\n",
       "       'Mukesh Choudhary', 'T Stubbs', 'R Sanjay Yadav', 'A Tomar',\n",
       "       'OC McCoy', 'Sikandar Raza', 'Rahmanullah Gurbaz', 'KR Mayers',\n",
       "       'HC Brook', 'AU Rashid', 'C Green', 'N Wadhera', 'Abishek Porel',\n",
       "       'MG Bracewell', 'Arshad Khan', 'MW Short', 'YV Dhull',\n",
       "       'Dhruv Jurel', 'Yudhvir Singh', 'Atharva Taide', 'Liton Das',\n",
       "       'PD Salt', 'Vijaykumar Vyshak', 'Arjun Tendulkar', 'Naveen-ul-Haq',\n",
       "       'Noor Ahmad', 'P Dubey', 'JE Root', 'KM Asif', 'Sanvir Singh',\n",
       "       'PN Mankad', 'Vivrant Sharma', 'MD Shanaka', 'DG Nalkande',\n",
       "       'R Ravindra', 'SD Hope', 'Sumit Kumar', 'Azmatullah Omarzai',\n",
       "       'Naman Dhir', 'G Coetzee', 'Sameer Rizvi', 'Mayank Dagar',\n",
       "       'A Raghuvanshi', 'Ashutosh Sharma', 'Saurav Chauhan',\n",
       "       'Kumar Kushagra', 'BR Sharath', 'Nithish Kumar Reddy', 'WG Jacks',\n",
       "       'J Fraser-McGurk', 'Tanush Kotian', 'KA Maharaj',\n",
       "       'Arshad Khan (2)', 'R Sai Kishore', 'AA Kulkarni', 'MJ Suthar',\n",
       "       'Gulbadin Naib', 'SB Dubey', 'D Ferreira', 'Mukesh Kumar',\n",
       "       'T Kohler-Cadmore', 'Aniket Verma', 'RD Rickelton', 'R Minz',\n",
       "       'V Nigam', 'Priyansh Arya', 'PWA Mulder', 'PHKD Mendis',\n",
       "       'Suryansh Shedge', 'SK Rasheed', 'JP Inglis', 'XC Bartlett',\n",
       "       'MS Bhandage', 'V Suryavanshi', 'A Mhatre', 'A Kamboj', 'C Bosch',\n",
       "       'DS Rathi', 'JG Bethell', 'KS Rathore', 'Urvil Patel', 'MJ Owen',\n",
       "       'M Tiwari', 'Sediqullah Atal', 'MP Breetzke', 'Musheer Khan',\n",
       "       'BKG Mendis'], dtype=object)"
      ]
     },
     "execution_count": 198,
     "metadata": {},
     "output_type": "execute_result"
    }
   ],
   "source": [
    "df['player_out'].unique()"
   ]
  },
  {
   "cell_type": "code",
   "execution_count": 199,
   "id": "af483982-d036-454f-8379-dc32caa49d4b",
   "metadata": {},
   "outputs": [
    {
     "data": {
      "text/plain": [
       "655"
      ]
     },
     "execution_count": 199,
     "metadata": {},
     "output_type": "execute_result"
    }
   ],
   "source": [
    "df['player_out'].nunique()"
   ]
  },
  {
   "cell_type": "code",
   "execution_count": 200,
   "id": "5b5978a8-1579-4f96-8238-e9b5d3edd2a0",
   "metadata": {},
   "outputs": [
    {
     "data": {
      "text/plain": [
       "player_out\n",
       "RG Sharma       237\n",
       "V Kohli         219\n",
       "S Dhawan        193\n",
       "KD Karthik      184\n",
       "RV Uthappa      180\n",
       "               ... \n",
       "SE Bond           1\n",
       "S Lamichhane      1\n",
       "SD Lad            1\n",
       "OC McCoy          1\n",
       "BKG Mendis        1\n",
       "Name: count, Length: 655, dtype: int64"
      ]
     },
     "execution_count": 200,
     "metadata": {},
     "output_type": "execute_result"
    }
   ],
   "source": [
    "df['player_out'].value_counts()"
   ]
  },
  {
   "cell_type": "code",
   "execution_count": 201,
   "id": "ced929b1-fd2c-4a4a-8803-c7192d64c5e5",
   "metadata": {},
   "outputs": [
    {
     "data": {
      "text/plain": [
       "264382"
      ]
     },
     "execution_count": 201,
     "metadata": {},
     "output_type": "execute_result"
    }
   ],
   "source": [
    "df['player_out'].isna().sum()"
   ]
  },
  {
   "cell_type": "code",
   "execution_count": 202,
   "id": "de6ae0a1-2272-4c14-bc4d-75387bb3fe27",
   "metadata": {},
   "outputs": [
    {
     "data": {
      "text/plain": [
       "dtype('O')"
      ]
     },
     "execution_count": 202,
     "metadata": {},
     "output_type": "execute_result"
    }
   ],
   "source": [
    "df['player_out'].dtypes"
   ]
  },
  {
   "cell_type": "markdown",
   "id": "3ad7ef1d-052e-49b9-a415-05c5d080f29a",
   "metadata": {},
   "source": [
    "`match_won_by`\n",
    "- Categoticla column\n",
    "- 20 unique categories\n",
    "- Higest is by Mumbai Indians and the count is 36185\n",
    "- Lowest is by Rising Pune Supergiants and the count is 1105\n",
    "- Data type is object\n",
    "- no missing values "
   ]
  },
  {
   "cell_type": "code",
   "execution_count": 203,
   "id": "267f2460-85b6-4908-a413-d0528bd389ff",
   "metadata": {},
   "outputs": [
    {
     "data": {
      "text/plain": [
       "0               Kolkata Knight Riders\n",
       "1               Kolkata Knight Riders\n",
       "2               Kolkata Knight Riders\n",
       "3               Kolkata Knight Riders\n",
       "4               Kolkata Knight Riders\n",
       "                     ...             \n",
       "278200    Royal Challengers Bengaluru\n",
       "278201    Royal Challengers Bengaluru\n",
       "278202    Royal Challengers Bengaluru\n",
       "278203    Royal Challengers Bengaluru\n",
       "278204    Royal Challengers Bengaluru\n",
       "Name: match_won_by, Length: 278205, dtype: object"
      ]
     },
     "execution_count": 203,
     "metadata": {},
     "output_type": "execute_result"
    }
   ],
   "source": [
    "df['match_won_by']"
   ]
  },
  {
   "cell_type": "code",
   "execution_count": 204,
   "id": "3af8171c-5f41-479c-aa17-6bda4874e490",
   "metadata": {},
   "outputs": [
    {
     "data": {
      "text/plain": [
       "array(['Kolkata Knight Riders', 'Chennai Super Kings', 'Delhi Daredevils',\n",
       "       'Royal Challengers Bangalore', 'Rajasthan Royals',\n",
       "       'Kings XI Punjab', 'Deccan Chargers', 'Mumbai Indians', 'Unknown',\n",
       "       'Pune Warriors', 'Kochi Tuskers Kerala', 'Sunrisers Hyderabad',\n",
       "       'Rising Pune Supergiants', 'Gujarat Lions',\n",
       "       'Rising Pune Supergiant', 'Delhi Capitals', 'Punjab Kings',\n",
       "       'Gujarat Titans', 'Lucknow Super Giants',\n",
       "       'Royal Challengers Bengaluru'], dtype=object)"
      ]
     },
     "execution_count": 204,
     "metadata": {},
     "output_type": "execute_result"
    }
   ],
   "source": [
    "df['match_won_by'].unique()"
   ]
  },
  {
   "cell_type": "code",
   "execution_count": 205,
   "id": "dee47836-bcba-42c0-a996-d60ceee9c27a",
   "metadata": {},
   "outputs": [
    {
     "data": {
      "text/plain": [
       "20"
      ]
     },
     "execution_count": 205,
     "metadata": {},
     "output_type": "execute_result"
    }
   ],
   "source": [
    "df['match_won_by'].nunique()"
   ]
  },
  {
   "cell_type": "code",
   "execution_count": 206,
   "id": "110ebbe8-c7cb-4764-8001-2ff7807198e3",
   "metadata": {},
   "outputs": [
    {
     "data": {
      "text/plain": [
       "match_won_by\n",
       "Mumbai Indians                 36185\n",
       "Chennai Super Kings            34371\n",
       "Kolkata Knight Riders          31729\n",
       "Rajasthan Royals               27466\n",
       "Royal Challengers Bangalore    26801\n",
       "Sunrisers Hyderabad            22183\n",
       "Kings XI Punjab                20162\n",
       "Delhi Daredevils               15709\n",
       "Delhi Capitals                 12296\n",
       "Gujarat Titans                  9000\n",
       "Punjab Kings                    8158\n",
       "Lucknow Super Giants            7430\n",
       "Deccan Chargers                 7013\n",
       "Unknown                         4702\n",
       "Royal Challengers Bengaluru     4244\n",
       "Gujarat Lions                   3063\n",
       "Pune Warriors                   2883\n",
       "Rising Pune Supergiant          2383\n",
       "Kochi Tuskers Kerala            1322\n",
       "Rising Pune Supergiants         1105\n",
       "Name: count, dtype: int64"
      ]
     },
     "execution_count": 206,
     "metadata": {},
     "output_type": "execute_result"
    }
   ],
   "source": [
    "df['match_won_by'].value_counts()"
   ]
  },
  {
   "cell_type": "code",
   "execution_count": 207,
   "id": "f8ff22cb-4f37-4a1d-9997-55c4bdcfb6ea",
   "metadata": {},
   "outputs": [
    {
     "data": {
      "text/plain": [
       "dtype('O')"
      ]
     },
     "execution_count": 207,
     "metadata": {},
     "output_type": "execute_result"
    }
   ],
   "source": [
    "df['match_won_by'].dtypes"
   ]
  },
  {
   "cell_type": "code",
   "execution_count": 208,
   "id": "6a275ac9-b7bb-4ef7-814e-3707f8b40047",
   "metadata": {},
   "outputs": [
    {
     "data": {
      "text/plain": [
       "0"
      ]
     },
     "execution_count": 208,
     "metadata": {},
     "output_type": "execute_result"
    }
   ],
   "source": [
    "df['match_won_by'].isna().sum()"
   ]
  },
  {
   "cell_type": "markdown",
   "id": "8a9c7a7e-5a68-488d-a731-e6617c2dfada",
   "metadata": {},
   "source": [
    "`win_outcome`\n",
    "- Categoical column\n",
    "- 111 unique values in the column \n",
    "- highest is 6 wickets and the count is 30082\n",
    "- Lowest is by 112 runs and the count is 189\n",
    "- 4702 missing values\n",
    "- Data type is object "
   ]
  },
  {
   "cell_type": "code",
   "execution_count": 209,
   "id": "25ac6cd8-1c4f-469f-9971-7611327ed07f",
   "metadata": {},
   "outputs": [
    {
     "data": {
      "text/plain": [
       "0         140 runs\n",
       "1         140 runs\n",
       "2         140 runs\n",
       "3         140 runs\n",
       "4         140 runs\n",
       "            ...   \n",
       "278200      6 runs\n",
       "278201      6 runs\n",
       "278202      6 runs\n",
       "278203      6 runs\n",
       "278204      6 runs\n",
       "Name: win_outcome, Length: 278205, dtype: object"
      ]
     },
     "execution_count": 209,
     "metadata": {},
     "output_type": "execute_result"
    }
   ],
   "source": [
    "df['win_outcome']"
   ]
  },
  {
   "cell_type": "code",
   "execution_count": 210,
   "id": "64913005-4489-4680-94c4-da410c4823db",
   "metadata": {},
   "outputs": [
    {
     "data": {
      "text/plain": [
       "array(['140 runs', '33 runs', '9 wickets', '5 wickets', '6 wickets',\n",
       "       '6 runs', '3 wickets', '66 runs', '7 wickets', '10 wickets',\n",
       "       '4 wickets', '13 runs', '10 runs', '45 runs', '8 wickets',\n",
       "       '9 runs', '3 runs', '29 runs', '5 runs', '18 runs', '23 runs',\n",
       "       '12 runs', '65 runs', '25 runs', '1 runs', '14 runs', '41 runs',\n",
       "       '105 runs', '19 runs', '75 runs', '92 runs', '11 runs', '24 runs',\n",
       "       nan, '27 runs', '38 runs', '8 runs', '78 runs', '16 runs',\n",
       "       '53 runs', '2 wickets', '2 runs', '4 runs', '31 runs', '55 runs',\n",
       "       '98 runs', '34 runs', '36 runs', '17 runs', '39 runs', '40 runs',\n",
       "       '67 runs', '63 runs', '37 runs', '57 runs', '35 runs', '22 runs',\n",
       "       '21 runs', '48 runs', '26 runs', '20 runs', '85 runs', '32 runs',\n",
       "       '76 runs', '111 runs', '82 runs', '43 runs', '58 runs', '28 runs',\n",
       "       '74 runs', '42 runs', '59 runs', '46 runs', '7 runs', '47 runs',\n",
       "       '86 runs', '44 runs', '87 runs', '130 runs', '15 runs', '60 runs',\n",
       "       '77 runs', '30 runs', '50 runs', '93 runs', '72 runs', '62 runs',\n",
       "       '97 runs', '138 runs', '1 wickets', '71 runs', '144 runs',\n",
       "       '80 runs', '51 runs', '61 runs', '146 runs', '64 runs', '102 runs',\n",
       "       '118 runs', '49 runs', '69 runs', '88 runs', '54 runs', '91 runs',\n",
       "       '52 runs', '81 runs', '56 runs', '112 runs', '106 runs',\n",
       "       '100 runs', '83 runs', '110 runs'], dtype=object)"
      ]
     },
     "execution_count": 210,
     "metadata": {},
     "output_type": "execute_result"
    }
   ],
   "source": [
    "df['win_outcome'].unique()"
   ]
  },
  {
   "cell_type": "code",
   "execution_count": 211,
   "id": "9697bc57-e16d-4607-9787-1886cfb4cf24",
   "metadata": {},
   "outputs": [
    {
     "data": {
      "text/plain": [
       "111"
      ]
     },
     "execution_count": 211,
     "metadata": {},
     "output_type": "execute_result"
    }
   ],
   "source": [
    "df['win_outcome'].nunique()"
   ]
  },
  {
   "cell_type": "code",
   "execution_count": 213,
   "id": "54847729-2364-480b-9de7-1d496eae201c",
   "metadata": {},
   "outputs": [
    {
     "data": {
      "text/plain": [
       "win_outcome\n",
       "6 wickets    30082\n",
       "7 wickets    28540\n",
       "5 wickets    24481\n",
       "8 wickets    19424\n",
       "4 wickets    15059\n",
       "             ...  \n",
       "93 runs        219\n",
       "138 runs       212\n",
       "146 runs       211\n",
       "76 runs        204\n",
       "112 runs       189\n",
       "Name: count, Length: 111, dtype: int64"
      ]
     },
     "execution_count": 213,
     "metadata": {},
     "output_type": "execute_result"
    }
   ],
   "source": [
    "df['win_outcome'].value_counts()"
   ]
  },
  {
   "cell_type": "code",
   "execution_count": 214,
   "id": "b6b958ed-8bae-4cfb-ae59-2cc26c8cc7e2",
   "metadata": {},
   "outputs": [
    {
     "data": {
      "text/plain": [
       "dtype('O')"
      ]
     },
     "execution_count": 214,
     "metadata": {},
     "output_type": "execute_result"
    }
   ],
   "source": [
    "df['win_outcome'].dtypes"
   ]
  },
  {
   "cell_type": "code",
   "execution_count": 215,
   "id": "a759a29c-def5-4d56-ac78-9d7107d00578",
   "metadata": {},
   "outputs": [
    {
     "data": {
      "text/plain": [
       "4702"
      ]
     },
     "execution_count": 215,
     "metadata": {},
     "output_type": "execute_result"
    }
   ],
   "source": [
    "df['win_outcome'].isna().sum()"
   ]
  },
  {
   "cell_type": "code",
   "execution_count": null,
   "id": "f1fc7744-23c8-42d3-a024-6a5886cf1dc6",
   "metadata": {},
   "outputs": [],
   "source": []
  },
  {
   "cell_type": "code",
   "execution_count": null,
   "id": "9e3474ec-98e1-4b2b-91cf-a9119ea522ce",
   "metadata": {},
   "outputs": [],
   "source": [
    "'innings', 'batting_team', 'bowling_team', 'over', 'ball_no', 'batter',\n",
    "       'bat_pos', 'runs_batter', 'balls_faced', 'bowler', 'valid_ball',\n",
    "       'runs_extras', 'runs_total', 'wicket_kind', 'player_out',\n",
    "       'match_won_by', 'win_outcome', 'venue', 'city', 'season'],\n",
    "      dtype='object')"
   ]
  },
  {
   "cell_type": "markdown",
   "id": "bdc37610-a677-44ad-acc8-553de743a89a",
   "metadata": {},
   "source": [
    "### *Data Cleaning*\n",
    "- *Drop the unimportant columns*"
   ]
  },
  {
   "cell_type": "code",
   "execution_count": null,
   "id": "42187907-f075-4138-9d50-3619d12f182f",
   "metadata": {},
   "outputs": [],
   "source": [
    "df_dropped_multiple = df.drop(['Unnamed: 0', 'match_type', 'event_name', ''], axis=1)"
   ]
  },
  {
   "cell_type": "markdown",
   "id": "5dd3ad12-efc1-415d-9be1-d992b63408f8",
   "metadata": {},
   "source": [
    "- *Converting binary columns to Yes and No* "
   ]
  },
  {
   "cell_type": "code",
   "execution_count": null,
   "id": "b97e2442-050a-498c-8205-bb351f51fca4",
   "metadata": {},
   "outputs": [],
   "source": [
    "\n",
    "df['balls_faced'] = df['balls_faced'].apply(lambda x: 'Yes' if x == 1 else 'No')\n",
    "\n",
    "df['valid_ball'] = df['valid_ball'].apply(lambda x: 'Yes' if x == 1 else 'No')\n",
    "\n"
   ]
  },
  {
   "cell_type": "markdown",
   "id": "2d096cd5-f1a0-4f94-99d2-badd85d35f78",
   "metadata": {},
   "source": [
    "- *Data type conversion*"
   ]
  },
  {
   "cell_type": "code",
   "execution_count": null,
   "id": "9bd66694-6df9-4923-bda4-b45a20735790",
   "metadata": {},
   "outputs": [],
   "source": [
    "df['date'] = pd.to_datetime(df['date'])\n",
    "\n",
    "df['batting_team'] = df['batting_team'].astype('category')\n",
    "\n",
    "df['bowling_team'] = df['bowling_team'].astype('category')\n"
   ]
  },
  {
   "cell_type": "markdown",
   "id": "50c95a91-8dba-46a3-a7a8-f3e20a9d02d0",
   "metadata": {},
   "source": [
    "- *Standarize column*"
   ]
  },
  {
   "cell_type": "code",
   "execution_count": null,
   "id": "d861739b-ece5-4d85-9f5a-dc10673e87aa",
   "metadata": {},
   "outputs": [],
   "source": [
    "# Create a mapping \n",
    "\n",
    "team_mapping = {\n",
    "    'Kings XI Punjab': 'Punjab Kings',\n",
    "    'Delhi Daredevils': 'Delhi Capitals',\n",
    "    'Royal Challengers Bengaluru': 'Royal Challengers Bangalore',\n",
    "    'Rising Pune Supergiant': 'Rising Pune Supergiants',\n",
    "    'Deccan Chargers': 'Sunrisers Hyderabad'  # Optional!\n",
    "}\n",
    "\n",
    "df['batting_team'] = df['batting_team'].replace(team_mapping)\n"
   ]
  },
  {
   "cell_type": "code",
   "execution_count": null,
   "id": "c23725f9-c79e-4db9-80ff-dad2d4852264",
   "metadata": {},
   "outputs": [],
   "source": [
    "# Create a mapping \n",
    "\n",
    "team_mapping = {\n",
    "    'Kings XI Punjab': 'Punjab Kings',\n",
    "    'Delhi Daredevils': 'Delhi Capitals',\n",
    "    'Royal Challengers Bengaluru': 'Royal Challengers Bangalore',\n",
    "    'Rising Pune Supergiant': 'Rising Pune Supergiants',\n",
    "    'Deccan Chargers': 'Sunrisers Hyderabad'\n",
    "}\n",
    "\n",
    "df['bowling_team'] = df['bowling_team'].replace(team_mapping)\n"
   ]
  },
  {
   "cell_type": "code",
   "execution_count": 10,
   "id": "4b77f5af-56e8-4d81-acf4-92d8ca20d9f0",
   "metadata": {},
   "outputs": [
    {
     "data": {
      "text/plain": [
       "Index(['Unnamed: 0', 'match_id', 'date', 'match_type', 'event_name', 'innings',\n",
       "       'batting_team', 'bowling_team', 'over', 'ball', 'ball_no', 'batter',\n",
       "       'bat_pos', 'runs_batter', 'balls_faced', 'bowler', 'valid_ball',\n",
       "       'runs_extras', 'runs_total', 'runs_bowler', 'runs_not_boundary',\n",
       "       'extra_type', 'non_striker', 'non_striker_pos', 'wicket_kind',\n",
       "       'player_out', 'fielders', 'runs_target', 'review_batter',\n",
       "       'team_reviewed', 'review_decision', 'umpire', 'umpires_call',\n",
       "       'player_of_match', 'match_won_by', 'win_outcome', 'toss_winner',\n",
       "       'toss_decision', 'venue', 'city', 'day', 'month', 'year', 'season',\n",
       "       'gender', 'team_type', 'superover_winner', 'result_type', 'method',\n",
       "       'balls_per_over', 'overs', 'event_match_no', 'stage', 'match_number',\n",
       "       'team_runs', 'team_balls', 'team_wicket', 'new_batter', 'batter_runs',\n",
       "       'batter_balls', 'bowler_wicket', 'batting_partners', 'next_batter',\n",
       "       'striker_out'],\n",
       "      dtype='object')"
      ]
     },
     "execution_count": 10,
     "metadata": {},
     "output_type": "execute_result"
    }
   ],
   "source": [
    "df.columns"
   ]
  },
  {
   "cell_type": "code",
   "execution_count": null,
   "id": "f5008145-a319-449e-b3ed-677993436eef",
   "metadata": {},
   "outputs": [],
   "source": []
  },
  {
   "cell_type": "code",
   "execution_count": null,
   "id": "b96a123b-8524-43fd-96f0-330a8ef2724a",
   "metadata": {},
   "outputs": [],
   "source": []
  },
  {
   "cell_type": "code",
   "execution_count": null,
   "id": "93babd08-4c40-4614-8259-fd081f5b18f8",
   "metadata": {},
   "outputs": [],
   "source": []
  },
  {
   "cell_type": "code",
   "execution_count": null,
   "id": "ffbdfc95-bbf5-45a0-9dc2-9d1f9d14f758",
   "metadata": {},
   "outputs": [],
   "source": []
  },
  {
   "cell_type": "code",
   "execution_count": null,
   "id": "78c075c8-7d0c-439d-ac77-56d763148691",
   "metadata": {},
   "outputs": [],
   "source": []
  },
  {
   "cell_type": "code",
   "execution_count": null,
   "id": "7a255969-73ee-4d01-8853-acd0815e545e",
   "metadata": {},
   "outputs": [],
   "source": []
  }
 ],
 "metadata": {
  "kernelspec": {
   "display_name": "Python 3 (ipykernel)",
   "language": "python",
   "name": "python3"
  },
  "language_info": {
   "codemirror_mode": {
    "name": "ipython",
    "version": 3
   },
   "file_extension": ".py",
   "mimetype": "text/x-python",
   "name": "python",
   "nbconvert_exporter": "python",
   "pygments_lexer": "ipython3",
   "version": "3.12.7"
  }
 },
 "nbformat": 4,
 "nbformat_minor": 5
}
